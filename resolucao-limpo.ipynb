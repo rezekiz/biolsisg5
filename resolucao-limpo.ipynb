{
 "cells": [
  {
   "cell_type": "markdown",
   "metadata": {},
   "source": [
    "# FBA Problem - Group 5 \n",
    "\n",
    "Study the metabolism of ***C. reinhardtii*** under different conditions, aiming at predicting and improving environmental and genetic conditions to **maximize the production** of one desirable compound.\n",
    "\n",
    "\n",
    "### Metabolites:\n",
    "\n",
    "<left><img src='metabolitos.png' width='400'></left>\n",
    "\n",
    "### Conditions:\n",
    "\n",
    "<left><img src='cndicoes.png' width='400'></left>\n",
    "\n",
    "### BPCY Formulation\n",
    "\n",
    "$ BPCY = \\frac{Product \\cdot Growth}{Substrate}  $\n",
    "\n",
    "\n"
   ]
  },
  {
   "cell_type": "markdown",
   "metadata": {},
   "source": []
  },
  {
   "cell_type": "code",
   "execution_count": 10,
   "metadata": {},
   "outputs": [
    {
     "ename": "ModuleNotFoundError",
     "evalue": "No module named 'mewpy'",
     "output_type": "error",
     "traceback": [
      "\u001b[1;31m---------------------------------------------------------------------------\u001b[0m",
      "\u001b[1;31mModuleNotFoundError\u001b[0m                       Traceback (most recent call last)",
      "Cell \u001b[1;32mIn[10], line 3\u001b[0m\n\u001b[0;32m      1\u001b[0m \u001b[38;5;66;03m# Importação de módulos para utilização ao longo do exercício\u001b[39;00m\n\u001b[0;32m      2\u001b[0m \u001b[38;5;28;01mimport\u001b[39;00m \u001b[38;5;21;01mcobra\u001b[39;00m\n\u001b[1;32m----> 3\u001b[0m \u001b[38;5;28;01mimport\u001b[39;00m \u001b[38;5;21;01mmewpy\u001b[39;00m\n",
      "\u001b[1;31mModuleNotFoundError\u001b[0m: No module named 'mewpy'"
     ]
    }
   ],
   "source": [
    "# Importação de módulos para utilização ao longo do exercício\n",
    "import cobra\n"
   ]
  },
  {
   "cell_type": "code",
   "execution_count": 9,
   "metadata": {},
   "outputs": [
    {
     "name": "stdout",
     "output_type": "stream",
     "text": [
      "Note: you may need to restart the kernel to use updated packages.\n"
     ]
    },
    {
     "name": "stderr",
     "output_type": "stream",
     "text": [
      "ERROR: Could not open requirements file: [Errno 2] No such file or directory: 'requisitos.txt'\n"
     ]
    }
   ],
   "source": []
  },
  {
   "cell_type": "code",
   "execution_count": 2,
   "metadata": {},
   "outputs": [],
   "source": [
    "# Carregamos o modelo usando \n",
    "\n",
    "model = cobra.io.read_sbml_model('iRC1080_lv3.xml')"
   ]
  },
  {
   "cell_type": "code",
   "execution_count": 3,
   "metadata": {},
   "outputs": [],
   "source": [
    "# model.summary()"
   ]
  },
  {
   "cell_type": "markdown",
   "metadata": {},
   "source": [
    "## Exercise 1 - The following questions must be repeated for *all* conditions described before."
   ]
  },
  {
   "cell_type": "markdown",
   "metadata": {},
   "source": [
    "### Exercise 1.a:\n",
    "What is the maximum growth rate achieved by the organism in each condition? Which metabolites are consumed and produced?"
   ]
  },
  {
   "cell_type": "code",
   "execution_count": 4,
   "metadata": {},
   "outputs": [],
   "source": [
    "# Crio uma cópia por alinea para não estar sempre a alterar o modelo principal\n",
    "\n",
    "teste = model.copy()"
   ]
  },
  {
   "cell_type": "markdown",
   "metadata": {},
   "source": [
    "#### Aerobic autotrophic"
   ]
  },
  {
   "cell_type": "code",
   "execution_count": 5,
   "metadata": {},
   "outputs": [
    {
     "name": "stdout",
     "output_type": "stream",
     "text": [
      "Max. growth rate: 0.1580095444020222\n"
     ]
    }
   ],
   "source": [
    "\n",
    "'''\n",
    "Obj. function: BIOMASS_Chlamy_auto\n",
    "\n",
    "Parametros\n",
    "----------\n",
    "\n",
    "O2 -10\n",
    "CO2 -11.16\n",
    "Acetate 0\n",
    "Starch 0\n",
    "photon -2000\n",
    "\n",
    "IDs das reações\n",
    "---------------\n",
    "\n",
    "O2 exchange -> EX_o2_e -> (-10.0, 1000.0)\n",
    "CO2 exchange -> EX_co2_e -> (-11.16, 1000.0)\n",
    "Acetate exchange -> EX_ac_e -> (-10.0, 1000.0)\n",
    "Strach Exchange -> SK_starch300_h\n",
    "Photon emission -> EX_photonVis_e -> (-2000.0, 1000.0)\n",
    "'''\n",
    "\n",
    "a = oxygen_ex  = teste.reactions.get_by_id('EX_o2_e')\n",
    "b = cardyo_ex  = teste.reactions.get_by_id('EX_co2_e')\n",
    "c = acetate_ex = teste.reactions.get_by_id('EX_ac_e')\n",
    "d = starch_ex  = teste.reactions.get_by_id('SK_starch300_h')\n",
    "e = photon_em  = teste.reactions.get_by_id('EX_photonVis_e')\n",
    "\n",
    "params = [a,b,c,d,e]\n",
    "\n",
    "# Alteramos os parametros\n",
    "\n",
    "a.bounds = (-10    , 1000)\n",
    "b.bounds = (-11.16 , 1000)\n",
    "c.bounds = ( 0     , 1000)\n",
    "d.bounds = ( 0     , 1000)\n",
    "e.bounds = (-2000  , 1000)\n",
    "\n",
    "teste.objective = 'BIOMASS_Chlamy_auto'\n",
    "\n",
    "sol = teste.optimize()\n",
    "\n",
    "print('Max. growth rate:',sol.objective_value)"
   ]
  },
  {
   "cell_type": "markdown",
   "metadata": {},
   "source": [
    "#### Microaerobic autotrophic"
   ]
  },
  {
   "cell_type": "code",
   "execution_count": 6,
   "metadata": {},
   "outputs": [
    {
     "name": "stdout",
     "output_type": "stream",
     "text": [
      "Max. growth rate: 0.010832735338852383\n"
     ]
    }
   ],
   "source": [
    "'''\n",
    "Obj: BIOMASS_Chlamy_auto\n",
    "\n",
    "Parameters\n",
    "----------\n",
    "\n",
    "O2 -0.01\n",
    "CO2 -11.16\n",
    "Acetate 0\n",
    "Starch 0\n",
    "photon -2000\n",
    "'''\n",
    "\n",
    "a = oxygen_ex  = teste.reactions.get_by_id('EX_o2_e')\n",
    "b = cardyo_ex  = teste.reactions.get_by_id('EX_co2_e')\n",
    "c = acetate_ex = teste.reactions.get_by_id('EX_ac_e')\n",
    "d = starch_ex  = teste.reactions.get_by_id('SK_starch300_h')\n",
    "e = photon_em  = teste.reactions.get_by_id('EX_photonVis_e')\n",
    "\n",
    "params = [a,b,c,d,e]\n",
    "\n",
    "# Alteramos os parametros\n",
    "\n",
    "a.bounds = (-0.01    , 1000)\n",
    "b.bounds = (-11.16 , 1000)\n",
    "c.bounds = ( 0     , 1000)\n",
    "d.bounds = ( 0     , 1000)\n",
    "e.bounds = ( -2000  , 1000)\n",
    "\n",
    "teste.objective = 'BIOMASS_Chlamy_auto'\n",
    "\n",
    "sol = teste.optimize()\n",
    "\n",
    "print('Max. growth rate:',sol.objective_value)\n",
    "# teste.summary()"
   ]
  },
  {
   "cell_type": "markdown",
   "metadata": {},
   "source": [
    "#### Aerobic heterotrophic"
   ]
  },
  {
   "cell_type": "code",
   "execution_count": 7,
   "metadata": {},
   "outputs": [
    {
     "name": "stdout",
     "output_type": "stream",
     "text": [
      "Max. growth rate: 0.0\n"
     ]
    },
    {
     "name": "stderr",
     "output_type": "stream",
     "text": [
      "/Library/Frameworks/Python.framework/Versions/3.11/lib/python3.11/site-packages/cobra/util/solver.py:554: UserWarning: Solver status is 'infeasible'.\n",
      "  warn(f\"Solver status is '{status}'.\", UserWarning)\n"
     ]
    }
   ],
   "source": [
    "'''\n",
    "Obj: BIOMASS_Chlamy_hetero\n",
    "\n",
    "O2 -10\n",
    "CO2 -11.16\n",
    "Acetate -10\n",
    "Starch -1.72e-4\n",
    "photon 0\n",
    "'''\n",
    "\n",
    "a = oxygen_ex  = teste.reactions.get_by_id('EX_o2_e')\n",
    "b = cardyo_ex  = teste.reactions.get_by_id('EX_co2_e')\n",
    "c = acetate_ex = teste.reactions.get_by_id('EX_ac_e')\n",
    "d = starch_ex  = teste.reactions.get_by_id('SK_starch300_h')\n",
    "e = photon_em  = teste.reactions.get_by_id('EX_photonVis_e')\n",
    "\n",
    "# Alteramos a objective function\n",
    "\n",
    "teste.objective = \"BIOMASS_Chlamy_auto\"\n",
    "\n",
    "# Alteramos os parametros\n",
    "\n",
    "a.bounds = (-10    , 1000)\n",
    "b.bounds = (-11.16 , 1000)\n",
    "c.bounds = ( -10     , 1000)\n",
    "d.bounds = ( -1.72e-4     , 1000)\n",
    "e.bounds = ( 0 , 1000)\n",
    "\n",
    "\n",
    "sol = teste.optimize()\n",
    "\n",
    "print('Max. growth rate:',sol.objective_value)"
   ]
  },
  {
   "cell_type": "markdown",
   "metadata": {},
   "source": [
    "#### Microaerobic heterotrophic"
   ]
  },
  {
   "cell_type": "code",
   "execution_count": 8,
   "metadata": {},
   "outputs": [
    {
     "name": "stdout",
     "output_type": "stream",
     "text": [
      "Max. growth rate: 0.0\n"
     ]
    },
    {
     "name": "stderr",
     "output_type": "stream",
     "text": [
      "/Library/Frameworks/Python.framework/Versions/3.11/lib/python3.11/site-packages/cobra/util/solver.py:554: UserWarning: Solver status is 'infeasible'.\n",
      "  warn(f\"Solver status is '{status}'.\", UserWarning)\n"
     ]
    }
   ],
   "source": [
    "'''\n",
    "Obj: BIOMASS_Chlamy_hetero\n",
    "\n",
    "O2 -0.01\n",
    "CO2 -11.16\n",
    "Acetate -10\n",
    "Starch -1.72e-4\n",
    "photon 0\n",
    "'''\n",
    "\n",
    "a = oxygen_ex  = teste.reactions.get_by_id('EX_o2_e')\n",
    "b = cardyo_ex  = teste.reactions.get_by_id('EX_co2_e')\n",
    "c = acetate_ex = teste.reactions.get_by_id('EX_ac_e')\n",
    "d = starch_ex  = teste.reactions.get_by_id('SK_starch300_h')\n",
    "e = photon_em  = teste.reactions.get_by_id('EX_photonVis_e')\n",
    "\n",
    "# Alteramos a objective function\n",
    "\n",
    "teste.objective = \"BIOMASS_Chlamy_auto\"\n",
    "\n",
    "# Alteramos os parametros\n",
    "\n",
    "a.bounds = (-0.01    , 1000)\n",
    "b.bounds = (-11.16 , 1000)\n",
    "c.bounds = ( -10     , 1000)\n",
    "d.bounds = ( -1.72e-4     , 1000)\n",
    "e.bounds = ( 0 , 1000)\n",
    "\n",
    "\n",
    "sol = teste.optimize()\n",
    "\n",
    "print('Max. growth rate:',sol.objective_value)"
   ]
  },
  {
   "cell_type": "markdown",
   "metadata": {},
   "source": [
    "#### Aerobic mixotrophic"
   ]
  },
  {
   "cell_type": "code",
   "execution_count": 9,
   "metadata": {},
   "outputs": [
    {
     "name": "stdout",
     "output_type": "stream",
     "text": [
      "Max. growth rate: 0.41575310127980136\n"
     ]
    }
   ],
   "source": [
    "'''\n",
    "Obj: BIOMASS_Chlamy_mixo\n",
    "\n",
    "O2 -10\n",
    "CO2 -11.16\n",
    "Acetate -10\n",
    "Starch -1.72e-4\n",
    "photon -2000\n",
    "'''\n",
    "\n",
    "a = oxygen_ex  = teste.reactions.get_by_id('EX_o2_e')\n",
    "b = cardyo_ex  = teste.reactions.get_by_id('EX_co2_e')\n",
    "c = acetate_ex = teste.reactions.get_by_id('EX_ac_e')\n",
    "d = starch_ex  = teste.reactions.get_by_id('SK_starch300_h')\n",
    "e = photon_em  = teste.reactions.get_by_id('EX_photonVis_e')\n",
    "\n",
    "# Alteramos a objective function\n",
    "\n",
    "teste.objective = \"BIOMASS_Chlamy_mixo\"\n",
    "\n",
    "# Alteramos os parametros\n",
    "\n",
    "a.bounds = (-10    , 1000)\n",
    "b.bounds = (-11.16 , 1000)\n",
    "c.bounds = ( -10     , 1000)\n",
    "d.bounds = ( -1.72e-4     , 1000)\n",
    "e.bounds = ( -2000 , 1000)\n",
    "\n",
    "\n",
    "sol = teste.optimize()\n",
    "\n",
    "print('Max. growth rate:',sol.objective_value)"
   ]
  },
  {
   "cell_type": "markdown",
   "metadata": {},
   "source": [
    "#### Microaerobic mixotrophic"
   ]
  },
  {
   "cell_type": "code",
   "execution_count": 10,
   "metadata": {},
   "outputs": [
    {
     "name": "stdout",
     "output_type": "stream",
     "text": [
      "Max. growth rate: 0.011243886867114037\n"
     ]
    }
   ],
   "source": [
    "'''\n",
    "Obj: BIOMASS_Chlamy_mixo\n",
    "\n",
    "O2 -0.01\n",
    "CO2 -11.16\n",
    "Acetate -10\n",
    "Starch -1.72e-4\n",
    "photon -2000\n",
    "'''\n",
    "\n",
    "a = oxygen_ex  = teste.reactions.get_by_id('EX_o2_e')\n",
    "b = cardyo_ex  = teste.reactions.get_by_id('EX_co2_e')\n",
    "c = acetate_ex = teste.reactions.get_by_id('EX_ac_e')\n",
    "d = starch_ex  = teste.reactions.get_by_id('SK_starch300_h')\n",
    "e = photon_em  = teste.reactions.get_by_id('EX_photonVis_e')\n",
    "\n",
    "# Alteramos a objective function\n",
    "\n",
    "teste.objective = \"BIOMASS_Chlamy_mixo\"\n",
    "\n",
    "# Alteramos os parametros\n",
    "\n",
    "a.bounds = (-0.01    , 1000)\n",
    "b.bounds = (-11.16 , 1000)\n",
    "c.bounds = ( -10     , 1000)\n",
    "d.bounds = ( -1.72e-4     , 1000)\n",
    "e.bounds = ( -2000 , 1000)\n",
    "\n",
    "\n",
    "sol = teste.optimize()\n",
    "\n",
    "print('Max. growth rate:',sol.objective_value)"
   ]
  },
  {
   "cell_type": "markdown",
   "metadata": {},
   "source": [
    "### Exercice 1.b.\n",
    "\n",
    "What is the wild-type production of the compound of interest?\n"
   ]
  },
  {
   "cell_type": "code",
   "execution_count": 11,
   "metadata": {},
   "outputs": [],
   "source": [
    "# Nova cópia\n",
    "e1b = model.copy()"
   ]
  },
  {
   "cell_type": "code",
   "execution_count": 77,
   "metadata": {},
   "outputs": [
    {
     "name": "stdout",
     "output_type": "stream",
     "text": [
      "Hydrogen -> h2_c\n",
      "Hydrogen -> h2_e\n",
      "Hydrogen -> h2_h\n",
      "Hydrogen -> h2_m\n",
      "Hydrogen peroxide -> h2o2_c\n",
      "Hydrogen peroxide -> h2o2_h\n",
      "Hydrogen peroxide -> h2o2_m\n",
      "Hydrogen peroxide -> h2o2_n\n",
      "Hydrogen peroxide -> h2o2_x\n",
      "Hydrogen sulfide -> h2s_h\n",
      "\n",
      "Hydrogen transport -> H2td\n",
      "Hydrogen transport, chloroplast -> H2th\n",
      "Hydrogen transport, eyespot -> Hts\n",
      "Hydrogen peroxide transport via diffusion, glyoxysome -> H2O2tp\n",
      "Hydrogen peroxide nuclear transport -> H2O2tn\n",
      "Hydrogen peroxide transport via diffusion, mitochondria -> H2O2tm\n",
      "Hydrogen transport, mitochondria -> H2tm\n",
      "Hydrogen-carbonate:L-glutamine amido-ligase, mitochondria -> HCGALm\n"
     ]
    },
    {
     "data": {
      "text/html": [
       "<div>\n",
       "<style scoped>\n",
       "    .dataframe tbody tr th:only-of-type {\n",
       "        vertical-align: middle;\n",
       "    }\n",
       "\n",
       "    .dataframe tbody tr th {\n",
       "        vertical-align: top;\n",
       "    }\n",
       "\n",
       "    .dataframe thead th {\n",
       "        text-align: right;\n",
       "    }\n",
       "</style>\n",
       "<table border=\"1\" class=\"dataframe\">\n",
       "  <thead>\n",
       "    <tr style=\"text-align: right;\">\n",
       "      <th></th>\n",
       "      <th>minimum</th>\n",
       "      <th>maximum</th>\n",
       "    </tr>\n",
       "  </thead>\n",
       "  <tbody>\n",
       "    <tr>\n",
       "      <th>H2td</th>\n",
       "      <td>0.000000</td>\n",
       "      <td>86.453008</td>\n",
       "    </tr>\n",
       "    <tr>\n",
       "      <th>H2th</th>\n",
       "      <td>-86.664889</td>\n",
       "      <td>2.118804</td>\n",
       "    </tr>\n",
       "    <tr>\n",
       "      <th>Hts</th>\n",
       "      <td>-145.273785</td>\n",
       "      <td>0.000007</td>\n",
       "    </tr>\n",
       "  </tbody>\n",
       "</table>\n",
       "</div>"
      ],
      "text/plain": [
       "         minimum    maximum\n",
       "H2td    0.000000  86.453008\n",
       "H2th  -86.664889   2.118804\n",
       "Hts  -145.273785   0.000007"
      ]
     },
     "execution_count": 77,
     "metadata": {},
     "output_type": "execute_result"
    }
   ],
   "source": [
    "# Nova cópia\n",
    "e1b = model.copy()\n",
    "\n",
    "# Composto de interesse é o hidrogênio molecular\n",
    "# O id é h_e\n",
    "composto = 'h2_e'\n",
    "\n",
    "e1b.objective = 'BIOMASS_Chlamy_auto'\n",
    "\n",
    "for _ in e1b.metabolites:\n",
    "    if 'Hydrogen' in _.name:\n",
    "        print(_.name,'->',_.id)\n",
    "print()\n",
    "for _ in e1b.reactions:\n",
    "    if 'Hydrogen' in _.name:\n",
    "        print(_.name,'->',_.id)\n",
    "\n",
    "\n",
    "#e1b.metabolites.get_by_id('h2_e')\n",
    "cobra.flux_analysis.flux_variability_analysis(model, ['H2td','H2th','Hts'])\n",
    "\n"
   ]
  },
  {
   "cell_type": "markdown",
   "metadata": {},
   "source": [
    "3) Access the robustness of the presented solutions using the Flux Variability Analysis approach.\n"
   ]
  },
  {
   "cell_type": "markdown",
   "metadata": {},
   "source": [
    "4) What are the maximum compound production capabilities, guaranteeing a minimum growth rate of 20% of the wild type?\n"
   ]
  },
  {
   "cell_type": "markdown",
   "metadata": {},
   "source": [
    "5) Plot a production envelope showing the production of the compound and the growth rate.\n"
   ]
  },
  {
   "cell_type": "markdown",
   "metadata": {},
   "source": [
    "6) Try to improve the production of the compound by changing the update rates and/or add/remove compounds in the media."
   ]
  }
 ],
 "metadata": {
  "kernelspec": {
   "display_name": "Python 3",
   "language": "python",
   "name": "python3"
  },
  "language_info": {
   "codemirror_mode": {
    "name": "ipython",
    "version": 3
   },
   "file_extension": ".py",
   "mimetype": "text/x-python",
   "name": "python",
   "nbconvert_exporter": "python",
   "pygments_lexer": "ipython3",
   "version": "3.11.5"
  }
 },
 "nbformat": 4,
 "nbformat_minor": 2
}
