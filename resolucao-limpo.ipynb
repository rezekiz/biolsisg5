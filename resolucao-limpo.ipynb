{
 "cells": [
  {
   "cell_type": "markdown",
   "metadata": {},
   "source": [
    "# FBA Problem - Group 5 \n",
    "\n",
    "Study the metabolism of ***C. reinhardtii*** under different conditions, aiming at predicting and improving environmental and genetic conditions to **maximize the production** of one desirable compound.\n",
    "\n",
    "\n",
    "### Metabolites:\n",
    "\n",
    "<left><img src='metabolitos.png' width='400'></left>\n",
    "\n",
    "### Conditions:\n",
    "\n",
    "<left><img src='cndicoes.png' width='400'></left>\n",
    "\n",
    "### BPCY Formulation\n",
    "\n",
    "$ BPCY = \\frac{Product \\cdot Growth}{Substrate}  $\n",
    "\n",
    "\n"
   ]
  },
  {
   "cell_type": "code",
   "execution_count": 5,
   "metadata": {},
   "outputs": [],
   "source": [
    "# Importação de bibliotecas e módulos para resolução de exercícios\n",
    "\n",
    "from cobra.io import read_sbml_model\n",
    "from mewpy.simulation import get_simulator\n",
    "import cobra\n",
    "import pandas as pd\n",
    "\n",
    "from mewpy.omics import ExpressionSet\n",
    "from mewpy.omics import eFlux    \n",
    "from mewpy.omics import GIMME         "
   ]
  },
  {
   "cell_type": "code",
   "execution_count": 6,
   "metadata": {},
   "outputs": [],
   "source": [
    "# Carregamos o modelo usando \n",
    "\n",
    "modelo_base = cobra.io.read_sbml_model('iRC1080_lv3.xml')"
   ]
  },
  {
   "cell_type": "code",
   "execution_count": null,
   "metadata": {},
   "outputs": [],
   "source": [
    "# modelo.summary()"
   ]
  },
  {
   "cell_type": "markdown",
   "metadata": {},
   "source": [
    "## Exercise 1 - The following questions must be repeated for *all* conditions described before."
   ]
  },
  {
   "cell_type": "markdown",
   "metadata": {},
   "source": [
    "### Exercise 1.a:\n",
    "What is the maximum growth rate achieved by the organism in each condition? Which metabolites are consumed and produced?"
   ]
  },
  {
   "cell_type": "code",
   "execution_count": null,
   "metadata": {},
   "outputs": [],
   "source": [
    "# Crio uma cópia por alinea para não estar sempre a alterar o modelo principal\n",
    "\n",
    "teste = model.copy()"
   ]
  },
  {
   "cell_type": "markdown",
   "metadata": {},
   "source": [
    "#### Aerobic autotrophic"
   ]
  },
  {
   "cell_type": "code",
   "execution_count": null,
   "metadata": {},
   "outputs": [],
   "source": [
    "\n",
    "'''\n",
    "Obj. function: BIOMASS_Chlamy_auto\n",
    "\n",
    "Parametros\n",
    "----------\n",
    "\n",
    "O2 -10\n",
    "CO2 -11.16\n",
    "Acetate 0\n",
    "Starch 0\n",
    "photon -2000\n",
    "\n",
    "IDs das reações\n",
    "---------------\n",
    "\n",
    "O2 exchange -> EX_o2_e -> (-10.0, 1000.0)\n",
    "CO2 exchange -> EX_co2_e -> (-11.16, 1000.0)\n",
    "Acetate exchange -> EX_ac_e -> (-10.0, 1000.0)\n",
    "Strach Exchange -> SK_starch300_h\n",
    "Photon emission -> EX_photonVis_e -> (-2000.0, 1000.0)\n",
    "'''\n",
    "\n",
    "a = oxygen_ex  = teste.reactions.get_by_id('EX_o2_e')\n",
    "b = cardyo_ex  = teste.reactions.get_by_id('EX_co2_e')\n",
    "c = acetate_ex = teste.reactions.get_by_id('EX_ac_e')\n",
    "d = starch_ex  = teste.reactions.get_by_id('SK_starch300_h')\n",
    "e = photon_em  = teste.reactions.get_by_id('EX_photonVis_e')\n",
    "\n",
    "params = [a,b,c,d,e]\n",
    "\n",
    "# Alteramos os parametros\n",
    "\n",
    "a.bounds = (-10    , 1000)\n",
    "b.bounds = (-11.16 , 1000)\n",
    "c.bounds = ( 0     , 1000)\n",
    "d.bounds = ( 0     , 1000)\n",
    "e.bounds = (-2000  , 1000)\n",
    "\n",
    "teste.objective = 'BIOMASS_Chlamy_auto'\n",
    "\n",
    "sol = teste.optimize()\n",
    "\n",
    "print('Max. growth rate:',sol.objective_value)"
   ]
  },
  {
   "cell_type": "markdown",
   "metadata": {},
   "source": [
    "#### Microaerobic autotrophic"
   ]
  },
  {
   "cell_type": "code",
   "execution_count": null,
   "metadata": {},
   "outputs": [],
   "source": [
    "'''\n",
    "Obj: BIOMASS_Chlamy_auto\n",
    "\n",
    "Parameters\n",
    "----------\n",
    "\n",
    "O2 -0.01\n",
    "CO2 -11.16\n",
    "Acetate 0\n",
    "Starch 0\n",
    "photon -2000\n",
    "'''\n",
    "\n",
    "a = oxygen_ex  = teste.reactions.get_by_id('EX_o2_e')\n",
    "b = cardyo_ex  = teste.reactions.get_by_id('EX_co2_e')\n",
    "c = acetate_ex = teste.reactions.get_by_id('EX_ac_e')\n",
    "d = starch_ex  = teste.reactions.get_by_id('SK_starch300_h')\n",
    "e = photon_em  = teste.reactions.get_by_id('EX_photonVis_e')\n",
    "\n",
    "params = [a,b,c,d,e]\n",
    "\n",
    "# Alteramos os parametros\n",
    "\n",
    "a.bounds = (-0.01    , 1000)\n",
    "b.bounds = (-11.16 , 1000)\n",
    "c.bounds = ( 0     , 1000)\n",
    "d.bounds = ( 0     , 1000)\n",
    "e.bounds = ( -2000  , 1000)\n",
    "\n",
    "teste.objective = 'BIOMASS_Chlamy_auto'\n",
    "\n",
    "sol = teste.optimize()\n",
    "\n",
    "print('Max. growth rate:',sol.objective_value)\n",
    "# teste.summary()"
   ]
  },
  {
   "cell_type": "markdown",
   "metadata": {},
   "source": [
    "#### Aerobic heterotrophic"
   ]
  },
  {
   "cell_type": "code",
   "execution_count": null,
   "metadata": {},
   "outputs": [],
   "source": [
    "'''\n",
    "Obj: BIOMASS_Chlamy_hetero\n",
    "\n",
    "O2 -10\n",
    "CO2 -11.16\n",
    "Acetate -10\n",
    "Starch -1.72e-4\n",
    "photon 0\n",
    "'''\n",
    "\n",
    "a = oxygen_ex  = teste.reactions.get_by_id('EX_o2_e')\n",
    "b = cardyo_ex  = teste.reactions.get_by_id('EX_co2_e')\n",
    "c = acetate_ex = teste.reactions.get_by_id('EX_ac_e')\n",
    "d = starch_ex  = teste.reactions.get_by_id('SK_starch300_h')\n",
    "e = photon_em  = teste.reactions.get_by_id('EX_photonVis_e')\n",
    "\n",
    "# Alteramos a objective function\n",
    "\n",
    "teste.objective = \"BIOMASS_Chlamy_auto\"\n",
    "\n",
    "# Alteramos os parametros\n",
    "\n",
    "a.bounds = (-10    , 1000)\n",
    "b.bounds = (-11.16 , 1000)\n",
    "c.bounds = ( -10     , 1000)\n",
    "d.bounds = ( -1.72e-4     , 1000)\n",
    "e.bounds = ( 0 , 1000)\n",
    "\n",
    "\n",
    "sol = teste.optimize()\n",
    "\n",
    "print('Max. growth rate:',sol.objective_value)"
   ]
  },
  {
   "cell_type": "markdown",
   "metadata": {},
   "source": [
    "#### Microaerobic heterotrophic"
   ]
  },
  {
   "cell_type": "code",
   "execution_count": null,
   "metadata": {},
   "outputs": [],
   "source": [
    "'''\n",
    "Obj: BIOMASS_Chlamy_hetero\n",
    "\n",
    "O2 -0.01\n",
    "CO2 -11.16\n",
    "Acetate -10\n",
    "Starch -1.72e-4\n",
    "photon 0\n",
    "'''\n",
    "\n",
    "a = oxygen_ex  = teste.reactions.get_by_id('EX_o2_e')\n",
    "b = cardyo_ex  = teste.reactions.get_by_id('EX_co2_e')\n",
    "c = acetate_ex = teste.reactions.get_by_id('EX_ac_e')\n",
    "d = starch_ex  = teste.reactions.get_by_id('SK_starch300_h')\n",
    "e = photon_em  = teste.reactions.get_by_id('EX_photonVis_e')\n",
    "\n",
    "# Alteramos a objective function\n",
    "\n",
    "teste.objective = \"BIOMASS_Chlamy_auto\"\n",
    "\n",
    "# Alteramos os parametros\n",
    "\n",
    "a.bounds = (-0.01    , 1000)\n",
    "b.bounds = (-11.16 , 1000)\n",
    "c.bounds = ( -10     , 1000)\n",
    "d.bounds = ( -1.72e-4     , 1000)\n",
    "e.bounds = ( 0 , 1000)\n",
    "\n",
    "\n",
    "sol = teste.optimize()\n",
    "\n",
    "print('Max. growth rate:',sol.objective_value)"
   ]
  },
  {
   "cell_type": "markdown",
   "metadata": {},
   "source": [
    "#### Aerobic mixotrophic"
   ]
  },
  {
   "cell_type": "code",
   "execution_count": null,
   "metadata": {},
   "outputs": [],
   "source": [
    "'''\n",
    "Obj: BIOMASS_Chlamy_mixo\n",
    "\n",
    "O2 -10\n",
    "CO2 -11.16\n",
    "Acetate -10\n",
    "Starch -1.72e-4\n",
    "photon -2000\n",
    "'''\n",
    "\n",
    "a = oxygen_ex  = teste.reactions.get_by_id('EX_o2_e')\n",
    "b = cardyo_ex  = teste.reactions.get_by_id('EX_co2_e')\n",
    "c = acetate_ex = teste.reactions.get_by_id('EX_ac_e')\n",
    "d = starch_ex  = teste.reactions.get_by_id('SK_starch300_h')\n",
    "e = photon_em  = teste.reactions.get_by_id('EX_photonVis_e')\n",
    "\n",
    "# Alteramos a objective function\n",
    "\n",
    "teste.objective = \"BIOMASS_Chlamy_mixo\"\n",
    "\n",
    "# Alteramos os parametros\n",
    "\n",
    "a.bounds = (-10    , 1000)\n",
    "b.bounds = (-11.16 , 1000)\n",
    "c.bounds = ( -10     , 1000)\n",
    "d.bounds = ( -1.72e-4     , 1000)\n",
    "e.bounds = ( -2000 , 1000)\n",
    "\n",
    "\n",
    "sol = teste.optimize()\n",
    "\n",
    "print('Max. growth rate:',sol.objective_value)"
   ]
  },
  {
   "cell_type": "markdown",
   "metadata": {},
   "source": [
    "#### Microaerobic mixotrophic"
   ]
  },
  {
   "cell_type": "code",
   "execution_count": null,
   "metadata": {},
   "outputs": [],
   "source": [
    "'''\n",
    "Obj: BIOMASS_Chlamy_mixo\n",
    "\n",
    "O2 -0.01\n",
    "CO2 -11.16\n",
    "Acetate -10\n",
    "Starch -1.72e-4\n",
    "photon -2000\n",
    "'''\n",
    "\n",
    "a = oxygen_ex  = teste.reactions.get_by_id('EX_o2_e')\n",
    "b = cardyo_ex  = teste.reactions.get_by_id('EX_co2_e')\n",
    "c = acetate_ex = teste.reactions.get_by_id('EX_ac_e')\n",
    "d = starch_ex  = teste.reactions.get_by_id('SK_starch300_h')\n",
    "e = photon_em  = teste.reactions.get_by_id('EX_photonVis_e')\n",
    "\n",
    "# Alteramos a objective function\n",
    "\n",
    "teste.objective = \"BIOMASS_Chlamy_mixo\"\n",
    "\n",
    "# Alteramos os parametros\n",
    "\n",
    "a.bounds = (-0.01    , 1000)\n",
    "b.bounds = (-11.16 , 1000)\n",
    "c.bounds = ( -10     , 1000)\n",
    "d.bounds = ( -1.72e-4     , 1000)\n",
    "e.bounds = ( -2000 , 1000)\n",
    "\n",
    "\n",
    "sol = teste.optimize()\n",
    "\n",
    "print('Max. growth rate:',sol.objective_value)"
   ]
  },
  {
   "cell_type": "markdown",
   "metadata": {},
   "source": [
    "### Exercice 1.b.\n",
    "\n",
    "What is the wild-type production of the compound of interest?\n"
   ]
  },
  {
   "cell_type": "code",
   "execution_count": null,
   "metadata": {},
   "outputs": [],
   "source": [
    "# Nova cópia\n",
    "e1b = model.copy()"
   ]
  },
  {
   "cell_type": "code",
   "execution_count": null,
   "metadata": {},
   "outputs": [],
   "source": [
    "# Nova cópia\n",
    "e1b = model.copy()\n",
    "\n",
    "# Composto de interesse é o hidrogênio molecular\n",
    "# O id é h_e\n",
    "composto = 'h2_e'\n",
    "\n",
    "e1b.objective = 'BIOMASS_Chlamy_auto'\n",
    "\n",
    "for _ in e1b.metabolites:\n",
    "    if 'Hydrogen' in _.name:\n",
    "        print(_.name,'->',_.id)\n",
    "print()\n",
    "for _ in e1b.reactions:\n",
    "    if 'Hydrogen' in _.name:\n",
    "        print(_.name,'->',_.id)\n",
    "\n",
    "\n",
    "#e1b.metabolites.get_by_id('h2_e')\n",
    "cobra.flux_analysis.flux_variability_analysis(model, ['H2td','H2th','Hts'])\n",
    "\n"
   ]
  },
  {
   "cell_type": "markdown",
   "metadata": {},
   "source": [
    "3) Access the robustness of the presented solutions using the Flux Variability Analysis approach.\n"
   ]
  },
  {
   "cell_type": "markdown",
   "metadata": {},
   "source": [
    "4) What are the maximum compound production capabilities, guaranteeing a minimum growth rate of 20% of the wild type?\n"
   ]
  },
  {
   "cell_type": "markdown",
   "metadata": {},
   "source": [
    "5) Plot a production envelope showing the production of the compound and the growth rate.\n"
   ]
  },
  {
   "cell_type": "markdown",
   "metadata": {},
   "source": [
    "6) Try to improve the production of the compound by changing the update rates and/or add/remove compounds in the media."
   ]
  },
  {
   "cell_type": "markdown",
   "metadata": {},
   "source": [
    "# Exercise 2\n",
    "\n",
    "In stress conditions, microalgae  often change  their  metabolism to fight the alterations in the environment. In these scenarios, some carbon can be secreted in the \n",
    "form  of  organic acids. Although  some  stress  conditions  can  be  replicated directly  in GSM  models,  others, such as  temperature,  pH,  salinity,  require  the addition of additional  information,  such  as  gene expression  data. The file “expression_data.tsv” contains  the  normalized  gene  expression  profile  of  C.  reinhardii in  two  conditions: control and stress. "
   ]
  },
  {
   "cell_type": "markdown",
   "metadata": {},
   "source": [
    "## 2.a. \n",
    "\n",
    "Integrate the  expression  data for  both  conditions  using  the  eFLUX  algorithm. \n",
    "If your metabolite is H2, use the column “Stress_h2” instead of “Stress”.  The environmental condition  for each group/metabolite is available in Table  1.\n"
   ]
  },
  {
   "cell_type": "code",
   "execution_count": 7,
   "metadata": {},
   "outputs": [
    {
     "data": {
      "text/html": [
       "\n",
       "        <table>\n",
       "            <tr>\n",
       "                <td><strong>Name</strong></td>\n",
       "                <td>iRC1080</td>\n",
       "            </tr><tr>\n",
       "                <td><strong>Memory address</strong></td>\n",
       "                <td>1a86f962b70</td>\n",
       "            </tr><tr>\n",
       "                <td><strong>Number of metabolites</strong></td>\n",
       "                <td>1706</td>\n",
       "            </tr><tr>\n",
       "                <td><strong>Number of reactions</strong></td>\n",
       "                <td>2191</td>\n",
       "            </tr><tr>\n",
       "                <td><strong>Number of genes</strong></td>\n",
       "                <td>1086</td>\n",
       "            </tr><tr>\n",
       "                <td><strong>Number of groups</strong></td>\n",
       "                <td>0</td>\n",
       "            </tr><tr>\n",
       "                <td><strong>Objective expression</strong></td>\n",
       "                <td>1.0*BIOMASS_Chlamy_mixo - 1.0*BIOMASS_Chlamy_mixo_reverse_76efa</td>\n",
       "            </tr><tr>\n",
       "                <td><strong>Compartments</strong></td>\n",
       "                <td>cytosol, mitochondria, chloroplast, flagellum, peroxisome/glyoxysome, nucleus, golgi apparatus, extracellular space, eyespot, thylakoid</td>\n",
       "            </tr>\n",
       "          </table>"
      ],
      "text/plain": [
       "<Model iRC1080 at 0x1a86f962b70>"
      ]
     },
     "execution_count": 7,
     "metadata": {},
     "output_type": "execute_result"
    }
   ],
   "source": [
    "'''\n",
    "Definimos as condições ambientais. \n",
    "No caso do nosso grupo as condições são 'microaerobic mixotrophic'\n",
    "\n",
    "photon -2000\n",
    "co2 -11.6\n",
    "o2 -0.01\n",
    "acetate -10\n",
    "starch -1.72e-04\n",
    "\n",
    "'''\n",
    "modelo = modelo_base.copy()\n",
    "modelo.objective = 'BIOMASS_Chlamy_mixo'\n",
    "\n",
    "cond_ambientais = {\n",
    "        'EX_photonVis_e':(-2000    , 1000),   # condições de luz\n",
    "        'EX_co2_e'      :(-11.6    , 1000),   # consumo C02\n",
    "        'EX_o2_e'       :(-0.01    , 1000),   # condições de microaerobiose\n",
    "        'EX_ac_e'       :(-10      , 1000),   # consumo acetato\n",
    "        'SK_starch300_h':(-1.72e-4 , 1000),   # consumo amido\n",
    "                    \n",
    "          }\n",
    "\n",
    "modelo"
   ]
  },
  {
   "cell_type": "code",
   "execution_count": 8,
   "metadata": {},
   "outputs": [],
   "source": [
    "# POSSIVELMENTE APAGAR POIS SERÁ ALTERADO NO EX 1\n",
    "# ALTERAMOS AS CONDICOES NO MODELO\n",
    "\n",
    "for condicao in cond_ambientais.keys():\n",
    "    mudar = modelo.reactions.get_by_id(condicao)\n",
    "    mudar.bounds = cond_ambientais[condicao]\n",
    "    #print(mudar.id, cond_ambientais[condicao])"
   ]
  },
  {
   "cell_type": "code",
   "execution_count": 9,
   "metadata": {},
   "outputs": [],
   "source": [
    "# Carregamento do ficheiro de dados de expressão genética\n",
    "\n",
    "exp_gen = pd.read_csv('expression_data.tsv',sep='\\t',index_col=0)\n",
    "\n",
    "# Como não nos interessa 'Stress_12' vamos eliminar a coluna\n",
    "\n",
    "exp_gen.drop('Stress_12h', axis = 1, inplace = True)"
   ]
  },
  {
   "cell_type": "code",
   "execution_count": null,
   "metadata": {},
   "outputs": [],
   "source": [
    "exp_gen.columns"
   ]
  },
  {
   "cell_type": "code",
   "execution_count": 10,
   "metadata": {},
   "outputs": [],
   "source": [
    "# Estabelecemos as condições para a simulação usando MEWpy\n",
    "simulador = get_simulator(modelo_base, envcond = cond_ambientais)\n",
    "\n",
    "# Tratamos os dados para integração\n",
    "\n",
    "genes      = exp_gen.index.values                     # Isolamos a lista de genes\n",
    "ccontrolo  = ['Control_12h' ]  # Definimos as nossas condições\n",
    "cstress    = ['Stress_12_h2']\n",
    "controlo   = exp_gen[ccontrolo].to_numpy()         # Definimos os dados de expressão para cada uma das condições - controlo\n",
    "stress     = exp_gen[cstress  ].to_numpy()         # Definimos os dados de expressão para cada uma das condições - stress\n",
    "\n",
    "# Criamos o módulo de expressão\n",
    "\n",
    "exp_controlo = ExpressionSet(genes, ccontrolo, controlo)\n",
    "exp_stress   = ExpressionSet(genes, cstress  , controlo)"
   ]
  },
  {
   "cell_type": "code",
   "execution_count": 11,
   "metadata": {},
   "outputs": [],
   "source": [
    "# Realizamos a integração dos dados para a condição controlo\n",
    "# Usamos o algoritmo eFLUX\n",
    "\n",
    "g_c = eFlux(simulador,exp_controlo)\n"
   ]
  },
  {
   "cell_type": "code",
   "execution_count": 12,
   "metadata": {},
   "outputs": [
    {
     "data": {
      "text/html": [
       "<div>\n",
       "<style scoped>\n",
       "    .dataframe tbody tr th:only-of-type {\n",
       "        vertical-align: middle;\n",
       "    }\n",
       "\n",
       "    .dataframe tbody tr th {\n",
       "        vertical-align: top;\n",
       "    }\n",
       "\n",
       "    .dataframe thead th {\n",
       "        text-align: right;\n",
       "    }\n",
       "</style>\n",
       "<table border=\"1\" class=\"dataframe\">\n",
       "  <thead>\n",
       "    <tr style=\"text-align: right;\">\n",
       "      <th></th>\n",
       "      <th>Flux rate</th>\n",
       "    </tr>\n",
       "    <tr>\n",
       "      <th>Reaction ID</th>\n",
       "      <th></th>\n",
       "    </tr>\n",
       "  </thead>\n",
       "  <tbody>\n",
       "    <tr>\n",
       "      <th>H2th</th>\n",
       "      <td>1.479470e-36</td>\n",
       "    </tr>\n",
       "  </tbody>\n",
       "</table>\n",
       "</div>"
      ],
      "text/plain": [
       "                Flux rate\n",
       "Reaction ID              \n",
       "H2th         1.479470e-36"
      ]
     },
     "execution_count": 12,
     "metadata": {},
     "output_type": "execute_result"
    }
   ],
   "source": [
    "g_c.find(['H2td','H2th','Hts','EX_h2_e'])\n"
   ]
  },
  {
   "cell_type": "code",
   "execution_count": 13,
   "metadata": {},
   "outputs": [],
   "source": [
    "# Realizamos a integração dos dados para a condição de stress\n",
    "# Usamos o algoritmo eFLUX\n",
    "\n",
    "g_s = eFlux(simulador,exp_stress)"
   ]
  },
  {
   "cell_type": "code",
   "execution_count": 14,
   "metadata": {},
   "outputs": [
    {
     "data": {
      "text/html": [
       "<div>\n",
       "<style scoped>\n",
       "    .dataframe tbody tr th:only-of-type {\n",
       "        vertical-align: middle;\n",
       "    }\n",
       "\n",
       "    .dataframe tbody tr th {\n",
       "        vertical-align: top;\n",
       "    }\n",
       "\n",
       "    .dataframe thead th {\n",
       "        text-align: right;\n",
       "    }\n",
       "</style>\n",
       "<table border=\"1\" class=\"dataframe\">\n",
       "  <thead>\n",
       "    <tr style=\"text-align: right;\">\n",
       "      <th></th>\n",
       "      <th>Flux rate</th>\n",
       "    </tr>\n",
       "    <tr>\n",
       "      <th>Reaction ID</th>\n",
       "      <th></th>\n",
       "    </tr>\n",
       "  </thead>\n",
       "  <tbody>\n",
       "  </tbody>\n",
       "</table>\n",
       "</div>"
      ],
      "text/plain": [
       "Empty DataFrame\n",
       "Columns: [Flux rate]\n",
       "Index: []"
      ]
     },
     "execution_count": 14,
     "metadata": {},
     "output_type": "execute_result"
    }
   ],
   "source": [
    "g_s.find(['H2td','H2th','Hts','EX_h2_e'])"
   ]
  },
  {
   "cell_type": "markdown",
   "metadata": {},
   "source": [
    "Em stress deixa de produzir?"
   ]
  },
  {
   "cell_type": "markdown",
   "metadata": {},
   "source": [
    "## 2.b"
   ]
  },
  {
   "cell_type": "code",
   "execution_count": null,
   "metadata": {},
   "outputs": [],
   "source": []
  },
  {
   "cell_type": "markdown",
   "metadata": {},
   "source": [
    "# Exercise 3"
   ]
  },
  {
   "cell_type": "markdown",
   "metadata": {},
   "source": [
    "## 3.a"
   ]
  },
  {
   "cell_type": "code",
   "execution_count": 15,
   "metadata": {},
   "outputs": [],
   "source": [
    "# Fazemos uma cópia do modelo \"intacto\" \n",
    "\n",
    "modelo = modelo_base.copy()\n",
    "modelo.objective = 'BIOMASS_Chlamy_mixo'\n"
   ]
  },
  {
   "cell_type": "code",
   "execution_count": 16,
   "metadata": {},
   "outputs": [],
   "source": [
    "# Genes essenciais\n",
    "\n",
    "genes_ess = cobra.flux_analysis.find_essential_genes(modelo)"
   ]
  },
  {
   "cell_type": "code",
   "execution_count": null,
   "metadata": {},
   "outputs": [],
   "source": [
    "len(genes_ess)"
   ]
  },
  {
   "cell_type": "code",
   "execution_count": 17,
   "metadata": {},
   "outputs": [],
   "source": [
    "# Reacções essenciais\n",
    "reacts_ess = cobra.flux_analysis.find_essential_reactions(modelo)"
   ]
  },
  {
   "cell_type": "code",
   "execution_count": null,
   "metadata": {},
   "outputs": [],
   "source": [
    "len(reacts_ess)"
   ]
  },
  {
   "cell_type": "markdown",
   "metadata": {},
   "source": [
    "## 3.b"
   ]
  },
  {
   "cell_type": "code",
   "execution_count": 18,
   "metadata": {},
   "outputs": [],
   "source": [
    "# Single deletions\n",
    "\n",
    "# Genes\n",
    "\n",
    "single_gen_del = cobra.flux_analysis.single_gene_deletion(modelo)\n"
   ]
  },
  {
   "cell_type": "code",
   "execution_count": 19,
   "metadata": {},
   "outputs": [],
   "source": [
    "# Reacoes\n",
    "\n",
    "single_reac_del = cobra.flux_analysis.single_reaction_deletion(modelo)"
   ]
  },
  {
   "cell_type": "code",
   "execution_count": null,
   "metadata": {},
   "outputs": [],
   "source": [
    "# Double deletions\n",
    "# Genes\n",
    "\n",
    "# double_gen_del = cobra.flux_analysis.double_gene_deletion(modelo)"
   ]
  },
  {
   "cell_type": "code",
   "execution_count": null,
   "metadata": {},
   "outputs": [],
   "source": [
    "# Reacoes\n",
    "\n",
    "# double_reac_del = cobra.flux_analysis.double_reaction_deletion(modelo)"
   ]
  },
  {
   "cell_type": "code",
   "execution_count": 33,
   "metadata": {},
   "outputs": [
    {
     "data": {
      "text/html": [
       "<div>\n",
       "<style scoped>\n",
       "    .dataframe tbody tr th:only-of-type {\n",
       "        vertical-align: middle;\n",
       "    }\n",
       "\n",
       "    .dataframe tbody tr th {\n",
       "        vertical-align: top;\n",
       "    }\n",
       "\n",
       "    .dataframe thead th {\n",
       "        text-align: right;\n",
       "    }\n",
       "</style>\n",
       "<table border=\"1\" class=\"dataframe\">\n",
       "  <thead>\n",
       "    <tr style=\"text-align: right;\">\n",
       "      <th></th>\n",
       "      <th>ids</th>\n",
       "      <th>growth</th>\n",
       "      <th>status</th>\n",
       "    </tr>\n",
       "  </thead>\n",
       "  <tbody>\n",
       "    <tr>\n",
       "      <th>0</th>\n",
       "      <td>{CRv4_Au5_s16_g6038_t1}</td>\n",
       "      <td>0.011244</td>\n",
       "      <td>optimal</td>\n",
       "    </tr>\n",
       "    <tr>\n",
       "      <th>1</th>\n",
       "      <td>{CRv4_Au5_s16_g6473_t1}</td>\n",
       "      <td>0.011244</td>\n",
       "      <td>optimal</td>\n",
       "    </tr>\n",
       "    <tr>\n",
       "      <th>2</th>\n",
       "      <td>{CRv4_Au5_s1_g2299_t1}</td>\n",
       "      <td>0.011244</td>\n",
       "      <td>optimal</td>\n",
       "    </tr>\n",
       "    <tr>\n",
       "      <th>3</th>\n",
       "      <td>{CRv4_Au5_s13_g4589_t1}</td>\n",
       "      <td>0.011244</td>\n",
       "      <td>optimal</td>\n",
       "    </tr>\n",
       "    <tr>\n",
       "      <th>4</th>\n",
       "      <td>{CRv4_Au5_s1_g1674_t1}</td>\n",
       "      <td>0.011244</td>\n",
       "      <td>optimal</td>\n",
       "    </tr>\n",
       "    <tr>\n",
       "      <th>...</th>\n",
       "      <td>...</td>\n",
       "      <td>...</td>\n",
       "      <td>...</td>\n",
       "    </tr>\n",
       "    <tr>\n",
       "      <th>1081</th>\n",
       "      <td>{CRv4_Au5_s17_g7096_t1}</td>\n",
       "      <td>0.011244</td>\n",
       "      <td>optimal</td>\n",
       "    </tr>\n",
       "    <tr>\n",
       "      <th>1082</th>\n",
       "      <td>{CRv4_Au5_s17_g7043_t1}</td>\n",
       "      <td>0.011244</td>\n",
       "      <td>optimal</td>\n",
       "    </tr>\n",
       "    <tr>\n",
       "      <th>1083</th>\n",
       "      <td>{CRv4_Au5_s12_g3133_t1}</td>\n",
       "      <td>0.011244</td>\n",
       "      <td>optimal</td>\n",
       "    </tr>\n",
       "    <tr>\n",
       "      <th>1084</th>\n",
       "      <td>{CRv4_Au5_s2_g8432_t1}</td>\n",
       "      <td>0.011244</td>\n",
       "      <td>optimal</td>\n",
       "    </tr>\n",
       "    <tr>\n",
       "      <th>1085</th>\n",
       "      <td>{CRv4_Au5_s12_g2979_t1}</td>\n",
       "      <td>0.011244</td>\n",
       "      <td>optimal</td>\n",
       "    </tr>\n",
       "  </tbody>\n",
       "</table>\n",
       "<p>1086 rows × 3 columns</p>\n",
       "</div>"
      ],
      "text/plain": [
       "                          ids    growth   status\n",
       "0     {CRv4_Au5_s16_g6038_t1}  0.011244  optimal\n",
       "1     {CRv4_Au5_s16_g6473_t1}  0.011244  optimal\n",
       "2      {CRv4_Au5_s1_g2299_t1}  0.011244  optimal\n",
       "3     {CRv4_Au5_s13_g4589_t1}  0.011244  optimal\n",
       "4      {CRv4_Au5_s1_g1674_t1}  0.011244  optimal\n",
       "...                       ...       ...      ...\n",
       "1081  {CRv4_Au5_s17_g7096_t1}  0.011244  optimal\n",
       "1082  {CRv4_Au5_s17_g7043_t1}  0.011244  optimal\n",
       "1083  {CRv4_Au5_s12_g3133_t1}  0.011244  optimal\n",
       "1084   {CRv4_Au5_s2_g8432_t1}  0.011244  optimal\n",
       "1085  {CRv4_Au5_s12_g2979_t1}  0.011244  optimal\n",
       "\n",
       "[1086 rows x 3 columns]"
      ]
     },
     "execution_count": 33,
     "metadata": {},
     "output_type": "execute_result"
    }
   ],
   "source": [
    "single_gen_del"
   ]
  },
  {
   "cell_type": "code",
   "execution_count": 42,
   "metadata": {},
   "outputs": [
    {
     "data": {
      "text/html": [
       "<div>\n",
       "<style scoped>\n",
       "    .dataframe tbody tr th:only-of-type {\n",
       "        vertical-align: middle;\n",
       "    }\n",
       "\n",
       "    .dataframe tbody tr th {\n",
       "        vertical-align: top;\n",
       "    }\n",
       "\n",
       "    .dataframe thead th {\n",
       "        text-align: right;\n",
       "    }\n",
       "</style>\n",
       "<table border=\"1\" class=\"dataframe\">\n",
       "  <thead>\n",
       "    <tr style=\"text-align: right;\">\n",
       "      <th></th>\n",
       "      <th>ids</th>\n",
       "      <th>growth</th>\n",
       "      <th>status</th>\n",
       "    </tr>\n",
       "  </thead>\n",
       "  <tbody>\n",
       "    <tr>\n",
       "      <th>64</th>\n",
       "      <td>{CRv4_Au5_s2_g9145_t1}</td>\n",
       "      <td>0.011244</td>\n",
       "      <td>optimal</td>\n",
       "    </tr>\n",
       "  </tbody>\n",
       "</table>\n",
       "</div>"
      ],
      "text/plain": [
       "                       ids    growth   status\n",
       "64  {CRv4_Au5_s2_g9145_t1}  0.011244  optimal"
      ]
     },
     "execution_count": 42,
     "metadata": {},
     "output_type": "execute_result"
    }
   ],
   "source": [
    "single_gen_del[single_gen_del['growth']==max(single_gen_del['growth'])]"
   ]
  },
  {
   "cell_type": "code",
   "execution_count": 43,
   "metadata": {},
   "outputs": [
    {
     "data": {
      "text/html": [
       "<div>\n",
       "<style scoped>\n",
       "    .dataframe tbody tr th:only-of-type {\n",
       "        vertical-align: middle;\n",
       "    }\n",
       "\n",
       "    .dataframe tbody tr th {\n",
       "        vertical-align: top;\n",
       "    }\n",
       "\n",
       "    .dataframe thead th {\n",
       "        text-align: right;\n",
       "    }\n",
       "</style>\n",
       "<table border=\"1\" class=\"dataframe\">\n",
       "  <thead>\n",
       "    <tr style=\"text-align: right;\">\n",
       "      <th></th>\n",
       "      <th>ids</th>\n",
       "      <th>growth</th>\n",
       "      <th>status</th>\n",
       "    </tr>\n",
       "  </thead>\n",
       "  <tbody>\n",
       "    <tr>\n",
       "      <th>0</th>\n",
       "      <td>{GLYtx}</td>\n",
       "      <td>1.124391e-02</td>\n",
       "      <td>optimal</td>\n",
       "    </tr>\n",
       "    <tr>\n",
       "      <th>1</th>\n",
       "      <td>{DUTPDP}</td>\n",
       "      <td>1.949279e-18</td>\n",
       "      <td>optimal</td>\n",
       "    </tr>\n",
       "    <tr>\n",
       "      <th>2</th>\n",
       "      <td>{PLPSD1829Z12Z1835Z9Z12Z}</td>\n",
       "      <td>1.124391e-02</td>\n",
       "      <td>optimal</td>\n",
       "    </tr>\n",
       "    <tr>\n",
       "      <th>3</th>\n",
       "      <td>{AM6PTh}</td>\n",
       "      <td>1.124391e-02</td>\n",
       "      <td>optimal</td>\n",
       "    </tr>\n",
       "    <tr>\n",
       "      <th>4</th>\n",
       "      <td>{CYTDK1}</td>\n",
       "      <td>1.124391e-02</td>\n",
       "      <td>optimal</td>\n",
       "    </tr>\n",
       "    <tr>\n",
       "      <th>...</th>\n",
       "      <td>...</td>\n",
       "      <td>...</td>\n",
       "      <td>...</td>\n",
       "    </tr>\n",
       "    <tr>\n",
       "      <th>2186</th>\n",
       "      <td>{O2tm}</td>\n",
       "      <td>1.124391e-02</td>\n",
       "      <td>optimal</td>\n",
       "    </tr>\n",
       "    <tr>\n",
       "      <th>2187</th>\n",
       "      <td>{THRt2m}</td>\n",
       "      <td>1.124391e-02</td>\n",
       "      <td>optimal</td>\n",
       "    </tr>\n",
       "    <tr>\n",
       "      <th>2188</th>\n",
       "      <td>{PYK3}</td>\n",
       "      <td>1.124391e-02</td>\n",
       "      <td>optimal</td>\n",
       "    </tr>\n",
       "    <tr>\n",
       "      <th>2189</th>\n",
       "      <td>{PGD3TDS18111Z1613E}</td>\n",
       "      <td>6.954289e-20</td>\n",
       "      <td>optimal</td>\n",
       "    </tr>\n",
       "    <tr>\n",
       "      <th>2190</th>\n",
       "      <td>{UDPGNP}</td>\n",
       "      <td>1.124391e-02</td>\n",
       "      <td>optimal</td>\n",
       "    </tr>\n",
       "  </tbody>\n",
       "</table>\n",
       "<p>2191 rows × 3 columns</p>\n",
       "</div>"
      ],
      "text/plain": [
       "                            ids        growth   status\n",
       "0                       {GLYtx}  1.124391e-02  optimal\n",
       "1                      {DUTPDP}  1.949279e-18  optimal\n",
       "2     {PLPSD1829Z12Z1835Z9Z12Z}  1.124391e-02  optimal\n",
       "3                      {AM6PTh}  1.124391e-02  optimal\n",
       "4                      {CYTDK1}  1.124391e-02  optimal\n",
       "...                         ...           ...      ...\n",
       "2186                     {O2tm}  1.124391e-02  optimal\n",
       "2187                   {THRt2m}  1.124391e-02  optimal\n",
       "2188                     {PYK3}  1.124391e-02  optimal\n",
       "2189       {PGD3TDS18111Z1613E}  6.954289e-20  optimal\n",
       "2190                   {UDPGNP}  1.124391e-02  optimal\n",
       "\n",
       "[2191 rows x 3 columns]"
      ]
     },
     "execution_count": 43,
     "metadata": {},
     "output_type": "execute_result"
    }
   ],
   "source": [
    "single_reac_del"
   ]
  },
  {
   "cell_type": "code",
   "execution_count": 44,
   "metadata": {},
   "outputs": [
    {
     "data": {
      "text/html": [
       "<div>\n",
       "<style scoped>\n",
       "    .dataframe tbody tr th:only-of-type {\n",
       "        vertical-align: middle;\n",
       "    }\n",
       "\n",
       "    .dataframe tbody tr th {\n",
       "        vertical-align: top;\n",
       "    }\n",
       "\n",
       "    .dataframe thead th {\n",
       "        text-align: right;\n",
       "    }\n",
       "</style>\n",
       "<table border=\"1\" class=\"dataframe\">\n",
       "  <thead>\n",
       "    <tr style=\"text-align: right;\">\n",
       "      <th></th>\n",
       "      <th>ids</th>\n",
       "      <th>growth</th>\n",
       "      <th>status</th>\n",
       "    </tr>\n",
       "  </thead>\n",
       "  <tbody>\n",
       "    <tr>\n",
       "      <th>1075</th>\n",
       "      <td>{ETOHtm}</td>\n",
       "      <td>0.011244</td>\n",
       "      <td>optimal</td>\n",
       "    </tr>\n",
       "  </tbody>\n",
       "</table>\n",
       "</div>"
      ],
      "text/plain": [
       "           ids    growth   status\n",
       "1075  {ETOHtm}  0.011244  optimal"
      ]
     },
     "execution_count": 44,
     "metadata": {},
     "output_type": "execute_result"
    }
   ],
   "source": [
    "single_reac_del[single_reac_del['growth']==max(single_reac_del['growth'])]"
   ]
  }
 ],
 "metadata": {
  "kernelspec": {
   "display_name": "Python 3",
   "language": "python",
   "name": "python3"
  },
  "language_info": {
   "codemirror_mode": {
    "name": "ipython",
    "version": 3
   },
   "file_extension": ".py",
   "mimetype": "text/x-python",
   "name": "python",
   "nbconvert_exporter": "python",
   "pygments_lexer": "ipython3",
   "version": "3.7.1"
  }
 },
 "nbformat": 4,
 "nbformat_minor": 2
}
