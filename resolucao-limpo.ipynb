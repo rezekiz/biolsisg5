{
 "cells": [
  {
   "cell_type": "markdown",
   "metadata": {},
   "source": [
    "# FBA Problem - Group 5 \n",
    "\n",
    "Study the metabolism of ***C. reinhardtii*** under different conditions, aiming at predicting and improving environmental and genetic conditions to **maximize the production** of one desirable compound.\n",
    "\n",
    "\n",
    "### Metabolites:\n",
    "\n",
    "<left><img src='metabolitos.png' width='400'></left>\n",
    "\n",
    "### Conditions:\n",
    "\n",
    "<left><img src='cndicoes.png' width='400'></left>\n",
    "\n",
    "### BPCY Formulation\n",
    "\n",
    "$ BPCY = \\frac{Product \\cdot Growth}{Substrate}  $\n",
    "\n",
    "\n"
   ]
  },
  {
   "cell_type": "code",
   "execution_count": 39,
   "metadata": {},
   "outputs": [],
   "source": [
    "# Importação de bibliotecas e módulos para resolução de exercícios\n",
    "\n",
    "from cobra.io import read_sbml_model\n",
    "from mewpy.simulation import get_simulator\n",
    "import cobra\n",
    "import pandas as pd\n",
    "\n",
    "from mewpy.omics import ExpressionSet\n",
    "from mewpy.omics import eFlux    \n",
    "from mewpy.omics import GIMME         "
   ]
  },
  {
   "cell_type": "code",
   "execution_count": 17,
   "metadata": {},
   "outputs": [],
   "source": [
    "# Carregamos o modelo usando \n",
    "\n",
    "modelo = cobra.io.read_sbml_model('iRC1080_lv3.xml')"
   ]
  },
  {
   "cell_type": "code",
   "execution_count": 18,
   "metadata": {},
   "outputs": [
    {
     "data": {
      "text/html": [
       "<h3>Objective</h3><p>1.0 BIOMASS_Chlamy_hetero = 6.373327833116904</p><h4>Uptake</h4><table border=\"1\" class=\"dataframe\">\n",
       "  <thead>\n",
       "    <tr style=\"text-align: right;\">\n",
       "      <th>Metabolite</th>\n",
       "      <th>Reaction</th>\n",
       "      <th>Flux</th>\n",
       "      <th>C-Number</th>\n",
       "      <th>C-Flux</th>\n",
       "    </tr>\n",
       "  </thead>\n",
       "  <tbody>\n",
       "    <tr>\n",
       "      <td>ac_e</td>\n",
       "      <td>EX_ac_e</td>\n",
       "      <td>10</td>\n",
       "      <td>2</td>\n",
       "      <td>100.00%</td>\n",
       "    </tr>\n",
       "    <tr>\n",
       "      <td>mg2_e</td>\n",
       "      <td>EX_mg2_e</td>\n",
       "      <td>0.1848</td>\n",
       "      <td>0</td>\n",
       "      <td>0.00%</td>\n",
       "    </tr>\n",
       "    <tr>\n",
       "      <td>na1_e</td>\n",
       "      <td>EX_na1_e</td>\n",
       "      <td>10</td>\n",
       "      <td>0</td>\n",
       "      <td>0.00%</td>\n",
       "    </tr>\n",
       "    <tr>\n",
       "      <td>nh4_e</td>\n",
       "      <td>EX_nh4_e</td>\n",
       "      <td>10</td>\n",
       "      <td>0</td>\n",
       "      <td>0.00%</td>\n",
       "    </tr>\n",
       "    <tr>\n",
       "      <td>no3_e</td>\n",
       "      <td>EX_no3_e</td>\n",
       "      <td>10</td>\n",
       "      <td>0</td>\n",
       "      <td>0.00%</td>\n",
       "    </tr>\n",
       "    <tr>\n",
       "      <td>o2_e</td>\n",
       "      <td>EX_o2_e</td>\n",
       "      <td>5.815</td>\n",
       "      <td>0</td>\n",
       "      <td>0.00%</td>\n",
       "    </tr>\n",
       "    <tr>\n",
       "      <td>photonVis_e</td>\n",
       "      <td>EX_photonVis_e</td>\n",
       "      <td>1401</td>\n",
       "      <td>0</td>\n",
       "      <td>0.00%</td>\n",
       "    </tr>\n",
       "    <tr>\n",
       "      <td>pi_e</td>\n",
       "      <td>EX_pi_e</td>\n",
       "      <td>6.565</td>\n",
       "      <td>0</td>\n",
       "      <td>0.00%</td>\n",
       "    </tr>\n",
       "    <tr>\n",
       "      <td>so4_e</td>\n",
       "      <td>EX_so4_e</td>\n",
       "      <td>0.23</td>\n",
       "      <td>0</td>\n",
       "      <td>0.00%</td>\n",
       "    </tr>\n",
       "    <tr>\n",
       "      <td>starch300_h</td>\n",
       "      <td>SK_starch300_h</td>\n",
       "      <td>0.198</td>\n",
       "      <td>0</td>\n",
       "      <td>0.00%</td>\n",
       "    </tr>\n",
       "  </tbody>\n",
       "</table><h4>Secretion</h4><table border=\"1\" class=\"dataframe\">\n",
       "  <thead>\n",
       "    <tr style=\"text-align: right;\">\n",
       "      <th>Metabolite</th>\n",
       "      <th>Reaction</th>\n",
       "      <th>Flux</th>\n",
       "      <th>C-Number</th>\n",
       "      <th>C-Flux</th>\n",
       "    </tr>\n",
       "  </thead>\n",
       "  <tbody>\n",
       "    <tr>\n",
       "      <td>na1_h</td>\n",
       "      <td>DM_na1_h</td>\n",
       "      <td>-10</td>\n",
       "      <td>0</td>\n",
       "      <td>0.00%</td>\n",
       "    </tr>\n",
       "    <tr>\n",
       "      <td>o2D_u</td>\n",
       "      <td>DM_o2D_u</td>\n",
       "      <td>-8.28</td>\n",
       "      <td>0</td>\n",
       "      <td>0.00%</td>\n",
       "    </tr>\n",
       "    <tr>\n",
       "      <td>photon298_c</td>\n",
       "      <td>DM_photon298_c</td>\n",
       "      <td>-4.03</td>\n",
       "      <td>0</td>\n",
       "      <td>0.00%</td>\n",
       "    </tr>\n",
       "    <tr>\n",
       "      <td>photon438_u</td>\n",
       "      <td>DM_photon438_u</td>\n",
       "      <td>-202.1</td>\n",
       "      <td>0</td>\n",
       "      <td>0.00%</td>\n",
       "    </tr>\n",
       "    <tr>\n",
       "      <td>photon450_h</td>\n",
       "      <td>DM_photon450_h</td>\n",
       "      <td>-144.7</td>\n",
       "      <td>0</td>\n",
       "      <td>0.00%</td>\n",
       "    </tr>\n",
       "    <tr>\n",
       "      <td>photon490_s</td>\n",
       "      <td>DM_photon490_s</td>\n",
       "      <td>-232.4</td>\n",
       "      <td>0</td>\n",
       "      <td>0.00%</td>\n",
       "    </tr>\n",
       "    <tr>\n",
       "      <td>photon646_h</td>\n",
       "      <td>DM_photon646_h</td>\n",
       "      <td>-325.8</td>\n",
       "      <td>0</td>\n",
       "      <td>0.00%</td>\n",
       "    </tr>\n",
       "    <tr>\n",
       "      <td>photon673_u</td>\n",
       "      <td>DM_photon673_u</td>\n",
       "      <td>-156.4</td>\n",
       "      <td>0</td>\n",
       "      <td>0.00%</td>\n",
       "    </tr>\n",
       "    <tr>\n",
       "      <td>co2_e</td>\n",
       "      <td>EX_co2_e</td>\n",
       "      <td>-51.03</td>\n",
       "      <td>1</td>\n",
       "      <td>24.76%</td>\n",
       "    </tr>\n",
       "    <tr>\n",
       "      <td>etoh_e</td>\n",
       "      <td>EX_etoh_e</td>\n",
       "      <td>-16.3</td>\n",
       "      <td>2</td>\n",
       "      <td>15.82%</td>\n",
       "    </tr>\n",
       "    <tr>\n",
       "      <td>h2o_e</td>\n",
       "      <td>EX_h2o_e</td>\n",
       "      <td>-12.32</td>\n",
       "      <td>0</td>\n",
       "      <td>0.00%</td>\n",
       "    </tr>\n",
       "    <tr>\n",
       "      <td>h_e</td>\n",
       "      <td>EX_h_e</td>\n",
       "      <td>-34.98</td>\n",
       "      <td>0</td>\n",
       "      <td>0.00%</td>\n",
       "    </tr>\n",
       "    <tr>\n",
       "      <td>lac__D_e</td>\n",
       "      <td>EX_lac__D_e</td>\n",
       "      <td>-40.83</td>\n",
       "      <td>3</td>\n",
       "      <td>59.42%</td>\n",
       "    </tr>\n",
       "  </tbody>\n",
       "</table>"
      ],
      "text/plain": [
       "<cobra.summary.model_summary.ModelSummary at 0x2525f4de588>"
      ]
     },
     "execution_count": 18,
     "metadata": {},
     "output_type": "execute_result"
    }
   ],
   "source": [
    "modelo.summary()"
   ]
  },
  {
   "cell_type": "markdown",
   "metadata": {},
   "source": [
    "## Exercise 1 - The following questions must be repeated for *all* conditions described before."
   ]
  },
  {
   "cell_type": "markdown",
   "metadata": {},
   "source": [
    "### Exercise 1.a:\n",
    "What is the maximum growth rate achieved by the organism in each condition? Which metabolites are consumed and produced?"
   ]
  },
  {
   "cell_type": "code",
   "execution_count": 5,
   "metadata": {},
   "outputs": [
    {
     "ename": "NameError",
     "evalue": "name 'model' is not defined",
     "output_type": "error",
     "traceback": [
      "\u001b[1;31m---------------------------------------------------------------------------\u001b[0m",
      "\u001b[1;31mNameError\u001b[0m                                 Traceback (most recent call last)",
      "\u001b[1;32m~\\AppData\\Local\\Temp\\ipykernel_50388\\178732765.py\u001b[0m in \u001b[0;36m<module>\u001b[1;34m\u001b[0m\n\u001b[0;32m      1\u001b[0m \u001b[1;31m# Crio uma cópia por alinea para não estar sempre a alterar o modelo principal\u001b[0m\u001b[1;33m\u001b[0m\u001b[1;33m\u001b[0m\u001b[1;33m\u001b[0m\u001b[0m\n\u001b[0;32m      2\u001b[0m \u001b[1;33m\u001b[0m\u001b[0m\n\u001b[1;32m----> 3\u001b[1;33m \u001b[0mteste\u001b[0m \u001b[1;33m=\u001b[0m \u001b[0mmodel\u001b[0m\u001b[1;33m.\u001b[0m\u001b[0mcopy\u001b[0m\u001b[1;33m(\u001b[0m\u001b[1;33m)\u001b[0m\u001b[1;33m\u001b[0m\u001b[1;33m\u001b[0m\u001b[0m\n\u001b[0m",
      "\u001b[1;31mNameError\u001b[0m: name 'model' is not defined"
     ]
    }
   ],
   "source": [
    "# Crio uma cópia por alinea para não estar sempre a alterar o modelo principal\n",
    "\n",
    "teste = model.copy()"
   ]
  },
  {
   "cell_type": "markdown",
   "metadata": {},
   "source": [
    "#### Aerobic autotrophic"
   ]
  },
  {
   "cell_type": "code",
   "execution_count": null,
   "metadata": {},
   "outputs": [
    {
     "name": "stdout",
     "output_type": "stream",
     "text": [
      "Max. growth rate: 0.1580095444020222\n"
     ]
    }
   ],
   "source": [
    "\n",
    "'''\n",
    "Obj. function: BIOMASS_Chlamy_auto\n",
    "\n",
    "Parametros\n",
    "----------\n",
    "\n",
    "O2 -10\n",
    "CO2 -11.16\n",
    "Acetate 0\n",
    "Starch 0\n",
    "photon -2000\n",
    "\n",
    "IDs das reações\n",
    "---------------\n",
    "\n",
    "O2 exchange -> EX_o2_e -> (-10.0, 1000.0)\n",
    "CO2 exchange -> EX_co2_e -> (-11.16, 1000.0)\n",
    "Acetate exchange -> EX_ac_e -> (-10.0, 1000.0)\n",
    "Strach Exchange -> SK_starch300_h\n",
    "Photon emission -> EX_photonVis_e -> (-2000.0, 1000.0)\n",
    "'''\n",
    "\n",
    "a = oxygen_ex  = teste.reactions.get_by_id('EX_o2_e')\n",
    "b = cardyo_ex  = teste.reactions.get_by_id('EX_co2_e')\n",
    "c = acetate_ex = teste.reactions.get_by_id('EX_ac_e')\n",
    "d = starch_ex  = teste.reactions.get_by_id('SK_starch300_h')\n",
    "e = photon_em  = teste.reactions.get_by_id('EX_photonVis_e')\n",
    "\n",
    "params = [a,b,c,d,e]\n",
    "\n",
    "# Alteramos os parametros\n",
    "\n",
    "a.bounds = (-10    , 1000)\n",
    "b.bounds = (-11.16 , 1000)\n",
    "c.bounds = ( 0     , 1000)\n",
    "d.bounds = ( 0     , 1000)\n",
    "e.bounds = (-2000  , 1000)\n",
    "\n",
    "teste.objective = 'BIOMASS_Chlamy_auto'\n",
    "\n",
    "sol = teste.optimize()\n",
    "\n",
    "print('Max. growth rate:',sol.objective_value)"
   ]
  },
  {
   "cell_type": "markdown",
   "metadata": {},
   "source": [
    "#### Microaerobic autotrophic"
   ]
  },
  {
   "cell_type": "code",
   "execution_count": null,
   "metadata": {},
   "outputs": [
    {
     "name": "stdout",
     "output_type": "stream",
     "text": [
      "Max. growth rate: 0.010832735338852383\n"
     ]
    }
   ],
   "source": [
    "'''\n",
    "Obj: BIOMASS_Chlamy_auto\n",
    "\n",
    "Parameters\n",
    "----------\n",
    "\n",
    "O2 -0.01\n",
    "CO2 -11.16\n",
    "Acetate 0\n",
    "Starch 0\n",
    "photon -2000\n",
    "'''\n",
    "\n",
    "a = oxygen_ex  = teste.reactions.get_by_id('EX_o2_e')\n",
    "b = cardyo_ex  = teste.reactions.get_by_id('EX_co2_e')\n",
    "c = acetate_ex = teste.reactions.get_by_id('EX_ac_e')\n",
    "d = starch_ex  = teste.reactions.get_by_id('SK_starch300_h')\n",
    "e = photon_em  = teste.reactions.get_by_id('EX_photonVis_e')\n",
    "\n",
    "params = [a,b,c,d,e]\n",
    "\n",
    "# Alteramos os parametros\n",
    "\n",
    "a.bounds = (-0.01    , 1000)\n",
    "b.bounds = (-11.16 , 1000)\n",
    "c.bounds = ( 0     , 1000)\n",
    "d.bounds = ( 0     , 1000)\n",
    "e.bounds = ( -2000  , 1000)\n",
    "\n",
    "teste.objective = 'BIOMASS_Chlamy_auto'\n",
    "\n",
    "sol = teste.optimize()\n",
    "\n",
    "print('Max. growth rate:',sol.objective_value)\n",
    "# teste.summary()"
   ]
  },
  {
   "cell_type": "markdown",
   "metadata": {},
   "source": [
    "#### Aerobic heterotrophic"
   ]
  },
  {
   "cell_type": "code",
   "execution_count": null,
   "metadata": {},
   "outputs": [
    {
     "name": "stdout",
     "output_type": "stream",
     "text": [
      "Max. growth rate: 0.0\n"
     ]
    },
    {
     "name": "stderr",
     "output_type": "stream",
     "text": [
      "/Library/Frameworks/Python.framework/Versions/3.11/lib/python3.11/site-packages/cobra/util/solver.py:554: UserWarning: Solver status is 'infeasible'.\n",
      "  warn(f\"Solver status is '{status}'.\", UserWarning)\n"
     ]
    }
   ],
   "source": [
    "'''\n",
    "Obj: BIOMASS_Chlamy_hetero\n",
    "\n",
    "O2 -10\n",
    "CO2 -11.16\n",
    "Acetate -10\n",
    "Starch -1.72e-4\n",
    "photon 0\n",
    "'''\n",
    "\n",
    "a = oxygen_ex  = teste.reactions.get_by_id('EX_o2_e')\n",
    "b = cardyo_ex  = teste.reactions.get_by_id('EX_co2_e')\n",
    "c = acetate_ex = teste.reactions.get_by_id('EX_ac_e')\n",
    "d = starch_ex  = teste.reactions.get_by_id('SK_starch300_h')\n",
    "e = photon_em  = teste.reactions.get_by_id('EX_photonVis_e')\n",
    "\n",
    "# Alteramos a objective function\n",
    "\n",
    "teste.objective = \"BIOMASS_Chlamy_auto\"\n",
    "\n",
    "# Alteramos os parametros\n",
    "\n",
    "a.bounds = (-10    , 1000)\n",
    "b.bounds = (-11.16 , 1000)\n",
    "c.bounds = ( -10     , 1000)\n",
    "d.bounds = ( -1.72e-4     , 1000)\n",
    "e.bounds = ( 0 , 1000)\n",
    "\n",
    "\n",
    "sol = teste.optimize()\n",
    "\n",
    "print('Max. growth rate:',sol.objective_value)"
   ]
  },
  {
   "cell_type": "markdown",
   "metadata": {},
   "source": [
    "#### Microaerobic heterotrophic"
   ]
  },
  {
   "cell_type": "code",
   "execution_count": null,
   "metadata": {},
   "outputs": [
    {
     "name": "stdout",
     "output_type": "stream",
     "text": [
      "Max. growth rate: 0.0\n"
     ]
    },
    {
     "name": "stderr",
     "output_type": "stream",
     "text": [
      "/Library/Frameworks/Python.framework/Versions/3.11/lib/python3.11/site-packages/cobra/util/solver.py:554: UserWarning: Solver status is 'infeasible'.\n",
      "  warn(f\"Solver status is '{status}'.\", UserWarning)\n"
     ]
    }
   ],
   "source": [
    "'''\n",
    "Obj: BIOMASS_Chlamy_hetero\n",
    "\n",
    "O2 -0.01\n",
    "CO2 -11.16\n",
    "Acetate -10\n",
    "Starch -1.72e-4\n",
    "photon 0\n",
    "'''\n",
    "\n",
    "a = oxygen_ex  = teste.reactions.get_by_id('EX_o2_e')\n",
    "b = cardyo_ex  = teste.reactions.get_by_id('EX_co2_e')\n",
    "c = acetate_ex = teste.reactions.get_by_id('EX_ac_e')\n",
    "d = starch_ex  = teste.reactions.get_by_id('SK_starch300_h')\n",
    "e = photon_em  = teste.reactions.get_by_id('EX_photonVis_e')\n",
    "\n",
    "# Alteramos a objective function\n",
    "\n",
    "teste.objective = \"BIOMASS_Chlamy_auto\"\n",
    "\n",
    "# Alteramos os parametros\n",
    "\n",
    "a.bounds = (-0.01    , 1000)\n",
    "b.bounds = (-11.16 , 1000)\n",
    "c.bounds = ( -10     , 1000)\n",
    "d.bounds = ( -1.72e-4     , 1000)\n",
    "e.bounds = ( 0 , 1000)\n",
    "\n",
    "\n",
    "sol = teste.optimize()\n",
    "\n",
    "print('Max. growth rate:',sol.objective_value)"
   ]
  },
  {
   "cell_type": "markdown",
   "metadata": {},
   "source": [
    "#### Aerobic mixotrophic"
   ]
  },
  {
   "cell_type": "code",
   "execution_count": null,
   "metadata": {},
   "outputs": [
    {
     "name": "stdout",
     "output_type": "stream",
     "text": [
      "Max. growth rate: 0.41575310127980136\n"
     ]
    }
   ],
   "source": [
    "'''\n",
    "Obj: BIOMASS_Chlamy_mixo\n",
    "\n",
    "O2 -10\n",
    "CO2 -11.16\n",
    "Acetate -10\n",
    "Starch -1.72e-4\n",
    "photon -2000\n",
    "'''\n",
    "\n",
    "a = oxygen_ex  = teste.reactions.get_by_id('EX_o2_e')\n",
    "b = cardyo_ex  = teste.reactions.get_by_id('EX_co2_e')\n",
    "c = acetate_ex = teste.reactions.get_by_id('EX_ac_e')\n",
    "d = starch_ex  = teste.reactions.get_by_id('SK_starch300_h')\n",
    "e = photon_em  = teste.reactions.get_by_id('EX_photonVis_e')\n",
    "\n",
    "# Alteramos a objective function\n",
    "\n",
    "teste.objective = \"BIOMASS_Chlamy_mixo\"\n",
    "\n",
    "# Alteramos os parametros\n",
    "\n",
    "a.bounds = (-10    , 1000)\n",
    "b.bounds = (-11.16 , 1000)\n",
    "c.bounds = ( -10     , 1000)\n",
    "d.bounds = ( -1.72e-4     , 1000)\n",
    "e.bounds = ( -2000 , 1000)\n",
    "\n",
    "\n",
    "sol = teste.optimize()\n",
    "\n",
    "print('Max. growth rate:',sol.objective_value)"
   ]
  },
  {
   "cell_type": "markdown",
   "metadata": {},
   "source": [
    "#### Microaerobic mixotrophic"
   ]
  },
  {
   "cell_type": "code",
   "execution_count": null,
   "metadata": {},
   "outputs": [
    {
     "name": "stdout",
     "output_type": "stream",
     "text": [
      "Max. growth rate: 0.011243886867114037\n"
     ]
    }
   ],
   "source": [
    "'''\n",
    "Obj: BIOMASS_Chlamy_mixo\n",
    "\n",
    "O2 -0.01\n",
    "CO2 -11.16\n",
    "Acetate -10\n",
    "Starch -1.72e-4\n",
    "photon -2000\n",
    "'''\n",
    "\n",
    "a = oxygen_ex  = teste.reactions.get_by_id('EX_o2_e')\n",
    "b = cardyo_ex  = teste.reactions.get_by_id('EX_co2_e')\n",
    "c = acetate_ex = teste.reactions.get_by_id('EX_ac_e')\n",
    "d = starch_ex  = teste.reactions.get_by_id('SK_starch300_h')\n",
    "e = photon_em  = teste.reactions.get_by_id('EX_photonVis_e')\n",
    "\n",
    "# Alteramos a objective function\n",
    "\n",
    "teste.objective = \"BIOMASS_Chlamy_mixo\"\n",
    "\n",
    "# Alteramos os parametros\n",
    "\n",
    "a.bounds = (-0.01    , 1000)\n",
    "b.bounds = (-11.16 , 1000)\n",
    "c.bounds = ( -10     , 1000)\n",
    "d.bounds = ( -1.72e-4     , 1000)\n",
    "e.bounds = ( -2000 , 1000)\n",
    "\n",
    "\n",
    "sol = teste.optimize()\n",
    "\n",
    "print('Max. growth rate:',sol.objective_value)"
   ]
  },
  {
   "cell_type": "markdown",
   "metadata": {},
   "source": [
    "### Exercice 1.b.\n",
    "\n",
    "What is the wild-type production of the compound of interest?\n"
   ]
  },
  {
   "cell_type": "code",
   "execution_count": null,
   "metadata": {},
   "outputs": [],
   "source": [
    "# Nova cópia\n",
    "e1b = model.copy()"
   ]
  },
  {
   "cell_type": "code",
   "execution_count": null,
   "metadata": {},
   "outputs": [
    {
     "name": "stdout",
     "output_type": "stream",
     "text": [
      "Hydrogen -> h2_c\n",
      "Hydrogen -> h2_e\n",
      "Hydrogen -> h2_h\n",
      "Hydrogen -> h2_m\n",
      "Hydrogen peroxide -> h2o2_c\n",
      "Hydrogen peroxide -> h2o2_h\n",
      "Hydrogen peroxide -> h2o2_m\n",
      "Hydrogen peroxide -> h2o2_n\n",
      "Hydrogen peroxide -> h2o2_x\n",
      "Hydrogen sulfide -> h2s_h\n",
      "\n",
      "Hydrogen transport -> H2td\n",
      "Hydrogen transport, chloroplast -> H2th\n",
      "Hydrogen transport, eyespot -> Hts\n",
      "Hydrogen peroxide transport via diffusion, glyoxysome -> H2O2tp\n",
      "Hydrogen peroxide nuclear transport -> H2O2tn\n",
      "Hydrogen peroxide transport via diffusion, mitochondria -> H2O2tm\n",
      "Hydrogen transport, mitochondria -> H2tm\n",
      "Hydrogen-carbonate:L-glutamine amido-ligase, mitochondria -> HCGALm\n"
     ]
    },
    {
     "data": {
      "text/html": [
       "<div>\n",
       "<style scoped>\n",
       "    .dataframe tbody tr th:only-of-type {\n",
       "        vertical-align: middle;\n",
       "    }\n",
       "\n",
       "    .dataframe tbody tr th {\n",
       "        vertical-align: top;\n",
       "    }\n",
       "\n",
       "    .dataframe thead th {\n",
       "        text-align: right;\n",
       "    }\n",
       "</style>\n",
       "<table border=\"1\" class=\"dataframe\">\n",
       "  <thead>\n",
       "    <tr style=\"text-align: right;\">\n",
       "      <th></th>\n",
       "      <th>minimum</th>\n",
       "      <th>maximum</th>\n",
       "    </tr>\n",
       "  </thead>\n",
       "  <tbody>\n",
       "    <tr>\n",
       "      <th>H2td</th>\n",
       "      <td>0.000000</td>\n",
       "      <td>86.453008</td>\n",
       "    </tr>\n",
       "    <tr>\n",
       "      <th>H2th</th>\n",
       "      <td>-86.664889</td>\n",
       "      <td>2.118804</td>\n",
       "    </tr>\n",
       "    <tr>\n",
       "      <th>Hts</th>\n",
       "      <td>-145.273785</td>\n",
       "      <td>0.000007</td>\n",
       "    </tr>\n",
       "  </tbody>\n",
       "</table>\n",
       "</div>"
      ],
      "text/plain": [
       "         minimum    maximum\n",
       "H2td    0.000000  86.453008\n",
       "H2th  -86.664889   2.118804\n",
       "Hts  -145.273785   0.000007"
      ]
     },
     "execution_count": 77,
     "metadata": {},
     "output_type": "execute_result"
    }
   ],
   "source": [
    "# Nova cópia\n",
    "e1b = model.copy()\n",
    "\n",
    "# Composto de interesse é o hidrogênio molecular\n",
    "# O id é h_e\n",
    "composto = 'h2_e'\n",
    "\n",
    "e1b.objective = 'BIOMASS_Chlamy_auto'\n",
    "\n",
    "for _ in e1b.metabolites:\n",
    "    if 'Hydrogen' in _.name:\n",
    "        print(_.name,'->',_.id)\n",
    "print()\n",
    "for _ in e1b.reactions:\n",
    "    if 'Hydrogen' in _.name:\n",
    "        print(_.name,'->',_.id)\n",
    "\n",
    "\n",
    "#e1b.metabolites.get_by_id('h2_e')\n",
    "cobra.flux_analysis.flux_variability_analysis(model, ['H2td','H2th','Hts'])\n",
    "\n"
   ]
  },
  {
   "cell_type": "markdown",
   "metadata": {},
   "source": [
    "3) Access the robustness of the presented solutions using the Flux Variability Analysis approach.\n"
   ]
  },
  {
   "cell_type": "markdown",
   "metadata": {},
   "source": [
    "4) What are the maximum compound production capabilities, guaranteeing a minimum growth rate of 20% of the wild type?\n"
   ]
  },
  {
   "cell_type": "markdown",
   "metadata": {},
   "source": [
    "5) Plot a production envelope showing the production of the compound and the growth rate.\n"
   ]
  },
  {
   "cell_type": "markdown",
   "metadata": {},
   "source": [
    "6) Try to improve the production of the compound by changing the update rates and/or add/remove compounds in the media."
   ]
  },
  {
   "cell_type": "markdown",
   "metadata": {},
   "source": [
    "# Exercise 2\n",
    "\n",
    "In stress conditions, microalgae  often change  their  metabolism to fight the alterations in the environment. In these scenarios, some carbon can be secreted in the \n",
    "form  of  organic acids. Although  some  stress  conditions  can  be  replicated directly  in GSM  models,  others, such as  temperature,  pH,  salinity,  require  the addition of additional  information,  such  as  gene expression  data. The file “expression_data.tsv” contains  the  normalized  gene  expression  profile  of  C.  reinhardii in  two  conditions: control and stress. "
   ]
  },
  {
   "cell_type": "markdown",
   "metadata": {},
   "source": [
    "## 2.a. \n",
    "\n",
    "Integrate the  expression  data for  both  conditions  using  the  eFLUX  algorithm. \n",
    "If your metabolite is H2, use the column “Stress_h2” instead of “Stress”.  The environmental condition  for each group/metabolite is available in Table  1.\n"
   ]
  },
  {
   "cell_type": "code",
   "execution_count": 43,
   "metadata": {},
   "outputs": [],
   "source": [
    "'''\n",
    "Definimos as condições ambientais. \n",
    "No caso do nosso grupo as condições são 'microaerobic mixotrophic'\n",
    "\n",
    "photon -2000\n",
    "co2 -11.6\n",
    "o2 -0.01\n",
    "acetate -10\n",
    "starch -1.72e-04\n",
    "\n",
    "'''\n",
    "modelo.objective = 'BIOMASS_Chlamy_mixo'\n",
    "cond_ambientais = {\n",
    "        'EX_photonVis_e':(-2000    , 1000),   # condições de luz\n",
    "        'EX_co2_e'      :(-11.6    , 1000),   # consumo C02\n",
    "        'EX_o2_e'       :(-0.01    , 1000),   # condições de microaerobiose\n",
    "        'EX_ac_e'       :(-10      , 1000),   # consumo acetato\n",
    "        'SK_starch300_h':(-1.72e-4 , 1000),   # consumo amido\n",
    "                    \n",
    "          }"
   ]
  },
  {
   "cell_type": "code",
   "execution_count": 20,
   "metadata": {},
   "outputs": [],
   "source": [
    "# Carregamento do ficheiro de dados de expressão genética\n",
    "\n",
    "exp_gen = pd.read_csv('expression_data.tsv',sep='\\t',index_col=0)\n",
    "\n",
    "# Como não nos interessa 'Stress_12' vamos eliminar a coluna\n",
    "\n",
    "exp_gen.drop('Stress_12h', axis = 1, inplace = True)"
   ]
  },
  {
   "cell_type": "code",
   "execution_count": 21,
   "metadata": {},
   "outputs": [
    {
     "data": {
      "text/plain": [
       "Index(['Control_12h', 'Stress_12_h2'], dtype='object')"
      ]
     },
     "execution_count": 21,
     "metadata": {},
     "output_type": "execute_result"
    }
   ],
   "source": [
    "exp_gen.columns"
   ]
  },
  {
   "cell_type": "code",
   "execution_count": 22,
   "metadata": {},
   "outputs": [],
   "source": [
    "# Estabelecemos as condições para a simulação usando MEWpy\n",
    "simulador = get_simulator(modelo, envcond = cond_ambientais)\n",
    "\n",
    "# Tratamos os dados para integração\n",
    "\n",
    "genes      = exp_gen.index.values                     # Isolamos a lista de genes\n",
    "ccontrolo  = ['Control_12h' ]  # Definimos as nossas condições\n",
    "cstress    = ['Stress_12_h2']\n",
    "controlo   = exp_gen[ccontrolo].to_numpy()         # Definimos os dados de expressão para cada uma das condições - controlo\n",
    "stress     = exp_gen[cstress  ].to_numpy()         # Definimos os dados de expressão para cada uma das condições - stress\n",
    "\n",
    "# Criamos o módulo de expressão\n",
    "\n",
    "exp_controlo = ExpressionSet(genes, ccontrolo, controlo)\n",
    "exp_stress   = ExpressionSet(genes, cstress  , controlo)"
   ]
  },
  {
   "cell_type": "code",
   "execution_count": 44,
   "metadata": {},
   "outputs": [],
   "source": [
    "# Realizamos a integração dos dados para a condição controlo\n",
    "# Usamos o algoritmo eFLUX\n",
    "\n",
    "g_c = eFlux(simulador,exp_controlo)\n"
   ]
  },
  {
   "cell_type": "code",
   "execution_count": 48,
   "metadata": {},
   "outputs": [
    {
     "data": {
      "text/html": [
       "<div>\n",
       "<style scoped>\n",
       "    .dataframe tbody tr th:only-of-type {\n",
       "        vertical-align: middle;\n",
       "    }\n",
       "\n",
       "    .dataframe tbody tr th {\n",
       "        vertical-align: top;\n",
       "    }\n",
       "\n",
       "    .dataframe thead th {\n",
       "        text-align: right;\n",
       "    }\n",
       "</style>\n",
       "<table border=\"1\" class=\"dataframe\">\n",
       "  <thead>\n",
       "    <tr style=\"text-align: right;\">\n",
       "      <th></th>\n",
       "      <th>Flux rate</th>\n",
       "    </tr>\n",
       "    <tr>\n",
       "      <th>Reaction ID</th>\n",
       "      <th></th>\n",
       "    </tr>\n",
       "  </thead>\n",
       "  <tbody>\n",
       "    <tr>\n",
       "      <th>EX_h2_e</th>\n",
       "      <td>-9.285238e-23</td>\n",
       "    </tr>\n",
       "    <tr>\n",
       "      <th>H2td</th>\n",
       "      <td>-9.285238e-23</td>\n",
       "    </tr>\n",
       "  </tbody>\n",
       "</table>\n",
       "</div>"
      ],
      "text/plain": [
       "                Flux rate\n",
       "Reaction ID              \n",
       "EX_h2_e     -9.285238e-23\n",
       "H2td        -9.285238e-23"
      ]
     },
     "execution_count": 48,
     "metadata": {},
     "output_type": "execute_result"
    }
   ],
   "source": [
    "g_c.find(['H2td','H2th','Hts','EX_h2_e'])\n"
   ]
  },
  {
   "cell_type": "code",
   "execution_count": 49,
   "metadata": {},
   "outputs": [],
   "source": [
    "# Realizamos a integração dos dados para a condição de stress\n",
    "# Usamos o algoritmo eFLUX\n",
    "\n",
    "g_s = eFlux(simulador,exp_stress)"
   ]
  },
  {
   "cell_type": "code",
   "execution_count": 50,
   "metadata": {},
   "outputs": [
    {
     "data": {
      "text/html": [
       "<div>\n",
       "<style scoped>\n",
       "    .dataframe tbody tr th:only-of-type {\n",
       "        vertical-align: middle;\n",
       "    }\n",
       "\n",
       "    .dataframe tbody tr th {\n",
       "        vertical-align: top;\n",
       "    }\n",
       "\n",
       "    .dataframe thead th {\n",
       "        text-align: right;\n",
       "    }\n",
       "</style>\n",
       "<table border=\"1\" class=\"dataframe\">\n",
       "  <thead>\n",
       "    <tr style=\"text-align: right;\">\n",
       "      <th></th>\n",
       "      <th>Flux rate</th>\n",
       "    </tr>\n",
       "    <tr>\n",
       "      <th>Reaction ID</th>\n",
       "      <th></th>\n",
       "    </tr>\n",
       "  </thead>\n",
       "  <tbody>\n",
       "    <tr>\n",
       "      <th>EX_h2_e</th>\n",
       "      <td>1.187750e-24</td>\n",
       "    </tr>\n",
       "    <tr>\n",
       "      <th>H2td</th>\n",
       "      <td>1.187750e-24</td>\n",
       "    </tr>\n",
       "  </tbody>\n",
       "</table>\n",
       "</div>"
      ],
      "text/plain": [
       "                Flux rate\n",
       "Reaction ID              \n",
       "EX_h2_e      1.187750e-24\n",
       "H2td         1.187750e-24"
      ]
     },
     "execution_count": 50,
     "metadata": {},
     "output_type": "execute_result"
    }
   ],
   "source": [
    "g_s.find(['H2td','H2th','Hts','EX_h2_e'])"
   ]
  },
  {
   "cell_type": "markdown",
   "metadata": {},
   "source": [
    "## 2.b"
   ]
  },
  {
   "cell_type": "code",
   "execution_count": null,
   "metadata": {},
   "outputs": [],
   "source": []
  },
  {
   "cell_type": "markdown",
   "metadata": {},
   "source": [
    "# Exercise 3"
   ]
  },
  {
   "cell_type": "markdown",
   "metadata": {},
   "source": [
    "## 3.a"
   ]
  },
  {
   "cell_type": "code",
   "execution_count": 51,
   "metadata": {},
   "outputs": [],
   "source": [
    "# Genes essenciais\n",
    "\n",
    "genes_ess = cobra.flux_analysis.find_essential_genes(modelo)"
   ]
  },
  {
   "cell_type": "code",
   "execution_count": 57,
   "metadata": {},
   "outputs": [
    {
     "data": {
      "text/plain": [
       "136"
      ]
     },
     "execution_count": 57,
     "metadata": {},
     "output_type": "execute_result"
    }
   ],
   "source": [
    "len(genes_ess)"
   ]
  },
  {
   "cell_type": "code",
   "execution_count": 53,
   "metadata": {},
   "outputs": [],
   "source": [
    "# Reacções essenciais\n",
    "reacts_ess = cobra.flux_analysis.find_essential_reactions(modelo)"
   ]
  },
  {
   "cell_type": "code",
   "execution_count": 58,
   "metadata": {},
   "outputs": [
    {
     "data": {
      "text/plain": [
       "336"
      ]
     },
     "execution_count": 58,
     "metadata": {},
     "output_type": "execute_result"
    }
   ],
   "source": [
    "len(reacts_ess)"
   ]
  },
  {
   "cell_type": "markdown",
   "metadata": {},
   "source": [
    "## 3.b"
   ]
  },
  {
   "cell_type": "code",
   "execution_count": null,
   "metadata": {},
   "outputs": [],
   "source": []
  }
 ],
 "metadata": {
  "kernelspec": {
   "display_name": "Python 3",
   "language": "python",
   "name": "python3"
  },
  "language_info": {
   "codemirror_mode": {
    "name": "ipython",
    "version": 3
   },
   "file_extension": ".py",
   "mimetype": "text/x-python",
   "name": "python",
   "nbconvert_exporter": "python",
   "pygments_lexer": "ipython3",
   "version": "3.7.1"
  }
 },
 "nbformat": 4,
 "nbformat_minor": 2
}
