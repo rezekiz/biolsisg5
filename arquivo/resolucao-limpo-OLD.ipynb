{
 "cells": [
  {
   "cell_type": "markdown",
   "metadata": {},
   "source": [
    "# FBA Problem - Group 5 \n",
    "\n",
    "Study the metabolism of ***C. reinhardtii*** under different conditions, aiming at predicting and improving environmental and genetic conditions to **maximize the production** of one desirable compound.\n",
    "\n",
    "\n",
    "### Metabolites:\n",
    "\n",
    "<left><img src='metabolitos.png' width='400'></left>\n",
    "\n",
    "### Conditions:\n",
    "\n",
    "<left><img src='cndicoes.png' width='400'></left>\n",
    "\n",
    "### BPCY Formulation\n",
    "\n",
    "$ BPCY = \\frac{Product \\cdot Growth}{Substrate}  $\n",
    "\n",
    "\n"
   ]
  },
  {
   "cell_type": "code",
   "execution_count": 25,
   "metadata": {},
   "outputs": [],
   "source": [
    "# Importação de bibliotecas e módulos para resolução de exercícios\n",
    "\n",
    "from cobra.io import read_sbml_model\n",
    "from mewpy.simulation import get_simulator\n",
    "import cobra\n",
    "import pandas as pd\n",
    "\n",
    "from mewpy.omics import ExpressionSet\n",
    "from mewpy.omics import eFlux    \n",
    "from mewpy.omics import GIMME         "
   ]
  },
  {
   "cell_type": "code",
   "execution_count": 56,
   "metadata": {},
   "outputs": [],
   "source": [
    "# Carregamos o modelo usando \n",
    "\n",
    "modelo = cobra.io.read_sbml_model('iRC1080_lv3.xml')"
   ]
  },
  {
   "cell_type": "markdown",
   "metadata": {},
   "source": [
    "# Exercise 2\n",
    "\n",
    "In stress conditions, microalgae  often change  their  metabolism to fight the alterations in the environment. In these scenarios, some carbon can be secreted in the \n",
    "form  of  organic acids. Although  some  stress  conditions  can  be  replicated directly  in GSM  models,  others, such as  temperature,  pH,  salinity,  require  the addition of additional  information,  such  as  gene expression  data. The file “expression_data.tsv” contains  the  normalized  gene  expression  profile  of  C.  reinhardii in  two  conditions: control and stress. "
   ]
  },
  {
   "cell_type": "markdown",
   "metadata": {},
   "source": [
    "## 2.a. \n",
    "\n",
    "Integrate the  expression  data for  both  conditions  using  the  eFLUX  algorithm. \n",
    "If your metabolite is H2, use the column “Stress_h2” instead of “Stress”.  The environmental condition  for each group/metabolite is available in Table  1.\n"
   ]
  },
  {
   "cell_type": "code",
   "execution_count": 43,
   "metadata": {},
   "outputs": [],
   "source": [
    "'''\n",
    "Definimos as condições ambientais. \n",
    "No caso do nosso grupo as condições são 'microaerobic mixotrophic'\n",
    "\n",
    "photon -2000\n",
    "co2 -11.6\n",
    "o2 -0.01\n",
    "acetate -10\n",
    "starch -1.72e-04\n",
    "\n",
    "'''\n",
    "modelo.objective = 'BIOMASS_Chlamy_mixo'\n",
    "modelo = modelo.optimize\n",
    "cond_ambientais = {\n",
    "        'EX_photonVis_e':(-2000    , 1000),   # condições de luz\n",
    "        'EX_co2_e'      :(-11.6    , 1000),   # consumo C02\n",
    "        'EX_o2_e'       :(-0.01    , 1000),   # condições de microaerobiose\n",
    "        'EX_ac_e'       :(-10      , 1000),   # consumo acetato\n",
    "        'SK_starch300_h':(-1.72e-4 , 1000),   # consumo amido\n",
    "                    \n",
    "          }"
   ]
  },
  {
   "cell_type": "code",
   "execution_count": 49,
   "metadata": {},
   "outputs": [],
   "source": [
    "# Carregamento do ficheiro de dados de expressão genética\n",
    "\n",
    "exp_gen = pd.read_csv('expression_data.tsv',sep='\\t',index_col=0)\n",
    "\n",
    "# Como não nos interessa 'Stress_12' vamos eliminar a coluna\n",
    "\n",
    "exp_gen.drop('Stress_12h', axis = 1, inplace = True)"
   ]
  },
  {
   "cell_type": "code",
   "execution_count": 50,
   "metadata": {},
   "outputs": [
    {
     "data": {
      "text/plain": [
       "Index(['Control_12h', 'Stress_12_h2'], dtype='object')"
      ]
     },
     "execution_count": 50,
     "metadata": {},
     "output_type": "execute_result"
    }
   ],
   "source": [
    "exp_gen.columns"
   ]
  },
  {
   "cell_type": "code",
   "execution_count": 51,
   "metadata": {},
   "outputs": [
    {
     "ename": "ValueError",
     "evalue": "The model <builtins.method> has no defined simulator.",
     "output_type": "error",
     "traceback": [
      "\u001b[1;31m---------------------------------------------------------------------------\u001b[0m",
      "\u001b[1;31mValueError\u001b[0m                                Traceback (most recent call last)",
      "\u001b[1;32m~\\AppData\\Local\\Temp\\ipykernel_50636\\502164971.py\u001b[0m in \u001b[0;36m<module>\u001b[1;34m\u001b[0m\n\u001b[0;32m      1\u001b[0m \u001b[1;31m# Estabelecemos as condições para a simulação usando MEWpy\u001b[0m\u001b[1;33m\u001b[0m\u001b[1;33m\u001b[0m\u001b[1;33m\u001b[0m\u001b[0m\n\u001b[1;32m----> 2\u001b[1;33m \u001b[0msimulador\u001b[0m \u001b[1;33m=\u001b[0m \u001b[0mget_simulator\u001b[0m\u001b[1;33m(\u001b[0m\u001b[0mmodelo\u001b[0m\u001b[1;33m,\u001b[0m \u001b[0menvcond\u001b[0m \u001b[1;33m=\u001b[0m \u001b[0mcond_ambientais\u001b[0m\u001b[1;33m)\u001b[0m\u001b[1;33m\u001b[0m\u001b[1;33m\u001b[0m\u001b[0m\n\u001b[0m\u001b[0;32m      3\u001b[0m \u001b[1;33m\u001b[0m\u001b[0m\n\u001b[0;32m      4\u001b[0m \u001b[1;31m# Tratamos os dados para integração\u001b[0m\u001b[1;33m\u001b[0m\u001b[1;33m\u001b[0m\u001b[1;33m\u001b[0m\u001b[0m\n\u001b[0;32m      5\u001b[0m \u001b[1;33m\u001b[0m\u001b[0m\n",
      "\u001b[1;32mc:\\Users\\rsous\\AppData\\Local\\Programs\\Python\\Python37\\lib\\site-packages\\mewpy\\simulation\\simulator.py\u001b[0m in \u001b[0;36mget_simulator\u001b[1;34m(model, envcond, constraints, reference, reset_solver)\u001b[0m\n\u001b[0;32m    106\u001b[0m \u001b[1;33m\u001b[0m\u001b[0m\n\u001b[0;32m    107\u001b[0m     \u001b[1;32mif\u001b[0m \u001b[1;32mnot\u001b[0m \u001b[0minstance\u001b[0m\u001b[1;33m:\u001b[0m\u001b[1;33m\u001b[0m\u001b[1;33m\u001b[0m\u001b[0m\n\u001b[1;32m--> 108\u001b[1;33m         \u001b[1;32mraise\u001b[0m \u001b[0mValueError\u001b[0m\u001b[1;33m(\u001b[0m\u001b[1;34mf\"The model <{name}> has no defined simulator.\"\u001b[0m\u001b[1;33m)\u001b[0m\u001b[1;33m\u001b[0m\u001b[1;33m\u001b[0m\u001b[0m\n\u001b[0m\u001b[0;32m    109\u001b[0m     \u001b[1;32mreturn\u001b[0m \u001b[0minstance\u001b[0m\u001b[1;33m\u001b[0m\u001b[1;33m\u001b[0m\u001b[0m\n\u001b[0;32m    110\u001b[0m \u001b[1;33m\u001b[0m\u001b[0m\n",
      "\u001b[1;31mValueError\u001b[0m: The model <builtins.method> has no defined simulator."
     ]
    }
   ],
   "source": [
    "# Estabelecemos as condições para a simulação usando MEWpy\n",
    "simulador = get_simulator(modelo, envcond = cond_ambientais)\n",
    "\n",
    "# Tratamos os dados para integração\n",
    "\n",
    "genes      = exp_gen.index.values                     # Isolamos a lista de genes\n",
    "ccontrolo  = ['Control_12h' ]  # Definimos as nossas condições\n",
    "cstress    = ['Stress_12_h2']\n",
    "controlo   = exp_gen[ccontrolo].to_numpy()         # Definimos os dados de expressão para cada uma das condições - controlo\n",
    "stress     = exp_gen[cstress  ].to_numpy()         # Definimos os dados de expressão para cada uma das condições - stress\n",
    "\n",
    "# Criamos o módulo de expressão\n",
    "\n",
    "exp_controlo = ExpressionSet(genes, ccontrolo, controlo)\n",
    "exp_stress   = ExpressionSet(genes, cstress  , controlo)"
   ]
  },
  {
   "cell_type": "code",
   "execution_count": 52,
   "metadata": {},
   "outputs": [],
   "source": [
    "# Realizamos a integração dos dados para a condição controlo\n",
    "# Usamos o algoritmo eFLUX\n",
    "\n",
    "g_c = eFlux(simulador,exp_controlo)\n"
   ]
  },
  {
   "cell_type": "code",
   "execution_count": 53,
   "metadata": {},
   "outputs": [
    {
     "data": {
      "text/html": [
       "<div>\n",
       "<style scoped>\n",
       "    .dataframe tbody tr th:only-of-type {\n",
       "        vertical-align: middle;\n",
       "    }\n",
       "\n",
       "    .dataframe tbody tr th {\n",
       "        vertical-align: top;\n",
       "    }\n",
       "\n",
       "    .dataframe thead th {\n",
       "        text-align: right;\n",
       "    }\n",
       "</style>\n",
       "<table border=\"1\" class=\"dataframe\">\n",
       "  <thead>\n",
       "    <tr style=\"text-align: right;\">\n",
       "      <th></th>\n",
       "      <th>Flux rate</th>\n",
       "    </tr>\n",
       "    <tr>\n",
       "      <th>Reaction ID</th>\n",
       "      <th></th>\n",
       "    </tr>\n",
       "  </thead>\n",
       "  <tbody>\n",
       "    <tr>\n",
       "      <th>Hts</th>\n",
       "      <td>5.122614e-21</td>\n",
       "    </tr>\n",
       "    <tr>\n",
       "      <th>NADHts</th>\n",
       "      <td>-5.122614e-21</td>\n",
       "    </tr>\n",
       "    <tr>\n",
       "      <th>NADPHts</th>\n",
       "      <td>5.122614e-21</td>\n",
       "    </tr>\n",
       "  </tbody>\n",
       "</table>\n",
       "</div>"
      ],
      "text/plain": [
       "                Flux rate\n",
       "Reaction ID              \n",
       "Hts          5.122614e-21\n",
       "NADHts      -5.122614e-21\n",
       "NADPHts      5.122614e-21"
      ]
     },
     "execution_count": 53,
     "metadata": {},
     "output_type": "execute_result"
    }
   ],
   "source": [
    "g_c.find(['H2td','H2th','Hts','EX_h2_e'])"
   ]
  },
  {
   "cell_type": "code",
   "execution_count": 54,
   "metadata": {},
   "outputs": [],
   "source": [
    "# Realizamos a integração dos dados para a condição de stress\n",
    "# Usamos o algoritmo eFLUX\n",
    "\n",
    "g_s = eFlux(simulador,exp_stress)"
   ]
  },
  {
   "cell_type": "code",
   "execution_count": 55,
   "metadata": {},
   "outputs": [
    {
     "data": {
      "text/html": [
       "<div>\n",
       "<style scoped>\n",
       "    .dataframe tbody tr th:only-of-type {\n",
       "        vertical-align: middle;\n",
       "    }\n",
       "\n",
       "    .dataframe tbody tr th {\n",
       "        vertical-align: top;\n",
       "    }\n",
       "\n",
       "    .dataframe thead th {\n",
       "        text-align: right;\n",
       "    }\n",
       "</style>\n",
       "<table border=\"1\" class=\"dataframe\">\n",
       "  <thead>\n",
       "    <tr style=\"text-align: right;\">\n",
       "      <th></th>\n",
       "      <th>Flux rate</th>\n",
       "    </tr>\n",
       "    <tr>\n",
       "      <th>Reaction ID</th>\n",
       "      <th></th>\n",
       "    </tr>\n",
       "  </thead>\n",
       "  <tbody>\n",
       "    <tr>\n",
       "      <th>Hts</th>\n",
       "      <td>5.122614e-21</td>\n",
       "    </tr>\n",
       "    <tr>\n",
       "      <th>NADHts</th>\n",
       "      <td>-5.122614e-21</td>\n",
       "    </tr>\n",
       "    <tr>\n",
       "      <th>NADPHts</th>\n",
       "      <td>5.122614e-21</td>\n",
       "    </tr>\n",
       "  </tbody>\n",
       "</table>\n",
       "</div>"
      ],
      "text/plain": [
       "                Flux rate\n",
       "Reaction ID              \n",
       "Hts          5.122614e-21\n",
       "NADHts      -5.122614e-21\n",
       "NADPHts      5.122614e-21"
      ]
     },
     "execution_count": 55,
     "metadata": {},
     "output_type": "execute_result"
    }
   ],
   "source": [
    "g_s.find(['H2td','H2th','Hts','EX_h2_e'])"
   ]
  },
  {
   "cell_type": "markdown",
   "metadata": {},
   "source": [
    "## 2.b"
   ]
  },
  {
   "cell_type": "code",
   "execution_count": null,
   "metadata": {},
   "outputs": [],
   "source": []
  },
  {
   "cell_type": "markdown",
   "metadata": {},
   "source": [
    "# Exercise 3"
   ]
  },
  {
   "cell_type": "markdown",
   "metadata": {},
   "source": [
    "## 3.a"
   ]
  },
  {
   "cell_type": "code",
   "execution_count": 35,
   "metadata": {},
   "outputs": [],
   "source": [
    "# Genes essenciais\n",
    "\n",
    "genes_ess = cobra.flux_analysis.find_essential_genes(modelo)"
   ]
  },
  {
   "cell_type": "code",
   "execution_count": 36,
   "metadata": {},
   "outputs": [
    {
     "data": {
      "text/plain": [
       "136"
      ]
     },
     "execution_count": 36,
     "metadata": {},
     "output_type": "execute_result"
    }
   ],
   "source": [
    "len(genes_ess)"
   ]
  },
  {
   "cell_type": "code",
   "execution_count": 37,
   "metadata": {},
   "outputs": [],
   "source": [
    "# Reacções essenciais\n",
    "reacts_ess = cobra.flux_analysis.find_essential_reactions(modelo)"
   ]
  },
  {
   "cell_type": "code",
   "execution_count": 38,
   "metadata": {},
   "outputs": [
    {
     "data": {
      "text/plain": [
       "336"
      ]
     },
     "execution_count": 38,
     "metadata": {},
     "output_type": "execute_result"
    }
   ],
   "source": [
    "len(reacts_ess)"
   ]
  },
  {
   "cell_type": "markdown",
   "metadata": {},
   "source": [
    "## 3.b"
   ]
  }
 ],
 "metadata": {
  "kernelspec": {
   "display_name": "Python 3",
   "language": "python",
   "name": "python3"
  },
  "language_info": {
   "codemirror_mode": {
    "name": "ipython",
    "version": 3
   },
   "file_extension": ".py",
   "mimetype": "text/x-python",
   "name": "python",
   "nbconvert_exporter": "python",
   "pygments_lexer": "ipython3",
   "version": "3.7.1"
  }
 },
 "nbformat": 4,
 "nbformat_minor": 2
}
