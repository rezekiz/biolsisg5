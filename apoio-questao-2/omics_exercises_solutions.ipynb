{
 "cells": [
  {
   "cell_type": "markdown",
   "metadata": {
    "collapsed": false
   },
   "source": [
    "# Omics Exercises"
   ]
  },
  {
   "cell_type": "code",
   "execution_count": 1,
   "metadata": {
    "collapsed": false
   },
   "outputs": [],
   "source": [
    "from cobra.io import read_sbml_model\n",
    "from mewpy.simulation import get_simulator\n",
    "import cobra\n",
    "import pandas as pd\n",
    "\n",
    "from mewpy.omics import ExpressionSet\n",
    "from mewpy.omics import GIMME"
   ]
  },
  {
   "cell_type": "markdown",
   "metadata": {
    "collapsed": false
   },
   "source": [
    "### Exercise 1"
   ]
  },
  {
   "cell_type": "code",
   "execution_count": 2,
   "metadata": {
    "collapsed": false
   },
   "outputs": [
    {
     "data": {
      "text/html": [
       "\n",
       "        <table>\n",
       "            <tr>\n",
       "                <td><strong>Name</strong></td>\n",
       "                <td>iMM904</td>\n",
       "            </tr><tr>\n",
       "                <td><strong>Memory address</strong></td>\n",
       "                <td>1383cae0828</td>\n",
       "            </tr><tr>\n",
       "                <td><strong>Number of metabolites</strong></td>\n",
       "                <td>1226</td>\n",
       "            </tr><tr>\n",
       "                <td><strong>Number of reactions</strong></td>\n",
       "                <td>1577</td>\n",
       "            </tr><tr>\n",
       "                <td><strong>Number of genes</strong></td>\n",
       "                <td>905</td>\n",
       "            </tr><tr>\n",
       "                <td><strong>Number of groups</strong></td>\n",
       "                <td>0</td>\n",
       "            </tr><tr>\n",
       "                <td><strong>Objective expression</strong></td>\n",
       "                <td>1.0*BIOMASS_SC5_notrace - 1.0*BIOMASS_SC5_notrace_reverse_93090</td>\n",
       "            </tr><tr>\n",
       "                <td><strong>Compartments</strong></td>\n",
       "                <td>cytosol, extracellular space, mitochondria, peroxisome/glyoxysome, endoplasmic reticulum, vacuole, golgi apparatus, nucleus</td>\n",
       "            </tr>\n",
       "          </table>"
      ],
      "text/plain": [
       "<Model iMM904 at 0x1383cae0828>"
      ]
     },
     "execution_count": 2,
     "metadata": {},
     "output_type": "execute_result"
    }
   ],
   "source": [
    "model = read_sbml_model('iMM904.xml')\n",
    "model"
   ]
  },
  {
   "cell_type": "markdown",
   "metadata": {
    "collapsed": false
   },
   "source": [
    "### Exercise 2"
   ]
  },
  {
   "cell_type": "code",
   "execution_count": 3,
   "metadata": {
    "collapsed": false
   },
   "outputs": [],
   "source": [
    "envcond = {'EX_glc__D_e':(-10,1000), \"EX_xyl__D_e\":(0,0), #glucose and xylose exchange\n",
    "           \"EX_epist_e\":(-1000,1000), \"EX_epistest_SC_e\":(-1000,1000),\"ERGSTt\":(-1000,1000),\n",
    "           \"EX_ergstest_SC_e\":(-1000,1000), \"EX_fecost_e\":(-1000,1000), \"EX_lanost_e\":(-1000,1000),  #sterols\n",
    "           \"EX_lanostest_SC_e\":(-1000,1000), \"EX_zymst_e\":(-1000,1000), \"EX_zymstest_SC_e\":(-1000,1000),\n",
    "           \"ERGTETROLter\":(-1000,1000), \"EX_pc_SC_e\":(-1000,1000), \"EX_ptd1ino_SC_e\":(-1000,1000),\n",
    "           \"EX_o2_e\":(0,0) #oxygen exchange\n",
    "          }"
   ]
  },
  {
   "cell_type": "code",
   "execution_count": 4,
   "metadata": {
    "collapsed": false
   },
   "outputs": [
    {
     "name": "stdout",
     "output_type": "stream",
     "text": [
      "EX_glc__D_e (-10, 1000)\n",
      "EX_xyl__D_e (0, 0)\n",
      "EX_epist_e (-1000, 1000)\n",
      "EX_epistest_SC_e (-1000, 1000)\n",
      "ERGSTt (-1000, 1000)\n",
      "EX_ergstest_SC_e (-1000, 1000)\n",
      "EX_fecost_e (-1000, 1000)\n",
      "EX_lanost_e (-1000, 1000)\n",
      "EX_lanostest_SC_e (-1000, 1000)\n",
      "EX_zymst_e (-1000, 1000)\n",
      "EX_zymstest_SC_e (-1000, 1000)\n",
      "ERGTETROLter (-1000, 1000)\n",
      "EX_pc_SC_e (-1000, 1000)\n",
      "EX_ptd1ino_SC_e (-1000, 1000)\n",
      "EX_o2_e (0, 0)\n"
     ]
    }
   ],
   "source": [
    "# COBRApy\n",
    "for exchange in envcond.keys():\n",
    "    drain = model.reactions.get_by_id(exchange)\n",
    "    drain.bounds = envcond[exchange]\n",
    "    print(drain.id, envcond[exchange])"
   ]
  },
  {
   "cell_type": "code",
   "execution_count": 5,
   "metadata": {
    "collapsed": false
   },
   "outputs": [],
   "source": [
    "# MewPy\n",
    "model_mewpy = read_sbml_model('iMM904.xml')\n",
    "simul = get_simulator(model_mewpy, envcond = envcond)"
   ]
  },
  {
   "cell_type": "markdown",
   "metadata": {
    "collapsed": false
   },
   "source": [
    "### Exercise 3"
   ]
  },
  {
   "cell_type": "code",
   "execution_count": 6,
   "metadata": {
    "collapsed": false
   },
   "outputs": [
    {
     "name": "stdout",
     "output_type": "stream",
     "text": [
      "0.0\n",
      "0.0\n",
      "0.0\n",
      "-0.06176756734451793\n",
      "16.7435803749062\n"
     ]
    }
   ],
   "source": [
    "pfba_solution = cobra.flux_analysis.pfba(model)\n",
    "print(pfba_solution.fluxes[\"XYLR\"])\n",
    "print(pfba_solution.fluxes[\"XYLTD_D\"])\n",
    "print(pfba_solution.fluxes[\"XYLK\"])\n",
    "print(pfba_solution.fluxes[\"RPE\"])\n",
    "print(pfba_solution.fluxes[\"EX_etoh_e\"])"
   ]
  },
  {
   "cell_type": "code",
   "execution_count": 7,
   "metadata": {
    "collapsed": false
   },
   "outputs": [
    {
     "data": {
      "text/html": [
       "<div>\n",
       "<style scoped>\n",
       "    .dataframe tbody tr th:only-of-type {\n",
       "        vertical-align: middle;\n",
       "    }\n",
       "\n",
       "    .dataframe tbody tr th {\n",
       "        vertical-align: top;\n",
       "    }\n",
       "\n",
       "    .dataframe thead th {\n",
       "        text-align: right;\n",
       "    }\n",
       "</style>\n",
       "<table border=\"1\" class=\"dataframe\">\n",
       "  <thead>\n",
       "    <tr style=\"text-align: right;\">\n",
       "      <th></th>\n",
       "      <th>Flux rate</th>\n",
       "    </tr>\n",
       "    <tr>\n",
       "      <th>Reaction ID</th>\n",
       "      <th></th>\n",
       "    </tr>\n",
       "  </thead>\n",
       "  <tbody>\n",
       "    <tr>\n",
       "      <th>EX_etoh_e</th>\n",
       "      <td>16.743580</td>\n",
       "    </tr>\n",
       "    <tr>\n",
       "      <th>RPE</th>\n",
       "      <td>-0.061768</td>\n",
       "    </tr>\n",
       "  </tbody>\n",
       "</table>\n",
       "</div>"
      ],
      "text/plain": [
       "             Flux rate\n",
       "Reaction ID           \n",
       "EX_etoh_e    16.743580\n",
       "RPE          -0.061768"
      ]
     },
     "execution_count": 7,
     "metadata": {},
     "output_type": "execute_result"
    }
   ],
   "source": [
    "# MewPy\n",
    "res = simul.simulate(method=\"pFBA\")\n",
    "res.find([\"XYLR\",\"XYLTD_D\",\"XYLK\",\"RPE\",\"EX_etoh_e\"])"
   ]
  },
  {
   "cell_type": "markdown",
   "metadata": {
    "collapsed": false
   },
   "source": [
    "### Exercise 4"
   ]
  },
  {
   "cell_type": "code",
   "execution_count": 8,
   "metadata": {
    "collapsed": false
   },
   "outputs": [],
   "source": [
    "envcond_xyl = {'EX_glc__D_e':(0,0), \"EX_xyl__D_e\":(-10,1000), #glucose and xylose exchange\n",
    "               \"EX_epist_e\":(-1000,1000), \"EX_epistest_SC_e\":(-1000,1000),\"ERGSTt\":(-1000,1000),\n",
    "               \"EX_ergstest_SC_e\":(-1000,1000), \"EX_fecost_e\":(-1000,1000), \"EX_lanost_e\":(-1000,1000),  #sterols\n",
    "               \"EX_lanostest_SC_e\":(-1000,1000), \"EX_zymst_e\":(-1000,1000), \"EX_zymstest_SC_e\":(-1000,1000),\n",
    "               \"ERGTETROLter\":(-1000,1000), \"EX_pc_SC_e\":(-1000,1000), \"EX_ptd1ino_SC_e\":(-1000,1000),\n",
    "               \"EX_o2_e\":(0,0) #oxygen exchange\n",
    "              }"
   ]
  },
  {
   "cell_type": "code",
   "execution_count": 9,
   "metadata": {
    "collapsed": false
   },
   "outputs": [
    {
     "name": "stdout",
     "output_type": "stream",
     "text": [
      "9.99999999999891\n",
      "9.99999999999891\n",
      "9.999999999998911\n",
      "-3.3517552393830843\n",
      "15.695453796022996\n"
     ]
    }
   ],
   "source": [
    "for exchange in envcond_xyl.keys():\n",
    "    drain = model.reactions.get_by_id(exchange)\n",
    "    drain.bounds = envcond_xyl[exchange]\n",
    "\n",
    "pfba_solution = cobra.flux_analysis.pfba(model)\n",
    "print(pfba_solution.fluxes[\"XYLR\"])\n",
    "print(pfba_solution.fluxes[\"XYLTD_D\"])\n",
    "print(pfba_solution.fluxes[\"XYLK\"])\n",
    "print(pfba_solution.fluxes[\"RPE\"])\n",
    "print(pfba_solution.fluxes[\"EX_etoh_e\"])"
   ]
  },
  {
   "cell_type": "markdown",
   "metadata": {
    "collapsed": false
   },
   "source": [
    "### Exercise 5"
   ]
  },
  {
   "cell_type": "code",
   "execution_count": 10,
   "metadata": {
    "collapsed": false
   },
   "outputs": [],
   "source": [
    "for exchange in envcond.keys():\n",
    "    drain = model.reactions.get_by_id(exchange)\n",
    "    drain.bounds = envcond[exchange]\n",
    "\n",
    "essential_genes = cobra.flux_analysis.variability.find_essential_genes(model)\n",
    "essential_reactions = cobra.flux_analysis.variability.find_essential_reactions(model)"
   ]
  },
  {
   "cell_type": "code",
   "execution_count": 11,
   "metadata": {
    "collapsed": false
   },
   "outputs": [
    {
     "data": {
      "text/plain": [
       "(92, 156)"
      ]
     },
     "execution_count": 11,
     "metadata": {},
     "output_type": "execute_result"
    }
   ],
   "source": [
    "len(essential_genes), len(essential_reactions)"
   ]
  },
  {
   "cell_type": "markdown",
   "metadata": {
    "collapsed": false
   },
   "source": [
    "### Exercise 6"
   ]
  },
  {
   "cell_type": "code",
   "execution_count": 15,
   "metadata": {
    "collapsed": false
   },
   "outputs": [
    {
     "data": {
      "text/html": [
       "<div>\n",
       "<style scoped>\n",
       "    .dataframe tbody tr th:only-of-type {\n",
       "        vertical-align: middle;\n",
       "    }\n",
       "\n",
       "    .dataframe tbody tr th {\n",
       "        vertical-align: top;\n",
       "    }\n",
       "\n",
       "    .dataframe thead th {\n",
       "        text-align: right;\n",
       "    }\n",
       "</style>\n",
       "<table border=\"1\" class=\"dataframe\">\n",
       "  <thead>\n",
       "    <tr style=\"text-align: right;\">\n",
       "      <th></th>\n",
       "      <th>Glucose_medium</th>\n",
       "      <th>Xylose_medium</th>\n",
       "    </tr>\n",
       "    <tr>\n",
       "      <th>genes</th>\n",
       "      <th></th>\n",
       "      <th></th>\n",
       "    </tr>\n",
       "  </thead>\n",
       "  <tbody>\n",
       "    <tr>\n",
       "      <th>YGR121C</th>\n",
       "      <td>8.75635</td>\n",
       "      <td>12.77670</td>\n",
       "    </tr>\n",
       "    <tr>\n",
       "      <th>YIL009W</th>\n",
       "      <td>31.34840</td>\n",
       "      <td>18.60180</td>\n",
       "    </tr>\n",
       "    <tr>\n",
       "      <th>YER089C</th>\n",
       "      <td>40.99820</td>\n",
       "      <td>28.90290</td>\n",
       "    </tr>\n",
       "    <tr>\n",
       "      <th>YML037C</th>\n",
       "      <td>5.24355</td>\n",
       "      <td>1.31501</td>\n",
       "    </tr>\n",
       "    <tr>\n",
       "      <th>YDR383C</th>\n",
       "      <td>7.88679</td>\n",
       "      <td>4.49923</td>\n",
       "    </tr>\n",
       "  </tbody>\n",
       "</table>\n",
       "</div>"
      ],
      "text/plain": [
       "         Glucose_medium  Xylose_medium\n",
       "genes                                 \n",
       "YGR121C         8.75635       12.77670\n",
       "YIL009W        31.34840       18.60180\n",
       "YER089C        40.99820       28.90290\n",
       "YML037C         5.24355        1.31501\n",
       "YDR383C         7.88679        4.49923"
      ]
     },
     "execution_count": 15,
     "metadata": {},
     "output_type": "execute_result"
    }
   ],
   "source": [
    "expression = pd.read_csv(\"gene_expression_data.txt\",sep=\"\\t\",index_col=0)\n",
    "expression.head(5)"
   ]
  },
  {
   "cell_type": "code",
   "execution_count": 20,
   "metadata": {},
   "outputs": [
    {
     "data": {
      "text/plain": [
       "genes\n",
       "YGR121C      8.756350\n",
       "YIL009W     31.348400\n",
       "YER089C     40.998200\n",
       "YML037C      5.243550\n",
       "YDR383C      7.886790\n",
       "              ...    \n",
       "YDL114W      0.260572\n",
       "YLR150W    629.845000\n",
       "YOR255W      0.000000\n",
       "YPL017C      5.928220\n",
       "YMR278W     18.129100\n",
       "Name: Glucose_medium, Length: 5939, dtype: float64"
      ]
     },
     "execution_count": 20,
     "metadata": {},
     "output_type": "execute_result"
    }
   ],
   "source": [
    "expression['Glucose_medium']"
   ]
  },
  {
   "cell_type": "markdown",
   "metadata": {
    "collapsed": false
   },
   "source": [
    "### Exercise 7"
   ]
  },
  {
   "cell_type": "code",
   "execution_count": 23,
   "metadata": {
    "collapsed": false
   },
   "outputs": [
    {
     "name": "stdout",
     "output_type": "stream",
     "text": [
      "{'23CAPPD': 3.779729999999999, '2HMHMBQMTm': 5.097429999999999, '2HP6MPMOm': 5.097429999999999, '2HPMBQMTm': 5.097429999999999, '2HPMMBQMOm': 5.097429999999999, 'ACACT6p': 11.720428, 'ACACT7p': 11.720428, 'ACACT8p': 11.720428, 'ACACT9p': 11.720428, 'ACCOACrm': 6.629049999999999, 'AGTi': 10.81001, 'ACOAHim': 8.15859, 'ACOAO4p': 11.262046999999999, 'ACOAO5p': 11.262046999999999, 'ACOAO6p': 11.262046999999999, 'ACOAO7p': 11.262046999999999, 'ACOAO8p': 11.262046999999999, 'ACOAO9p': 11.262046999999999, 'ACOATAm': 7.145599999999999, 'ACON3MT': 0.15839999999999854, 'ACONT3m': 9.447569999999999, 'ACSm': 10.765659999999999, 'ACSp': 10.765659999999999, 'ACt2r': 9.515799999999999, 'ACtr': 11.729565, 'ADCS': 4.6807799999999995, 'ADK1m': 5.49203, 'ALDD19xr': 10.04297, 'ALDD20xm': 9.607859999999999, 'ALDD20y': 9.603919999999999, 'ALDD22x': 10.04297, 'ALDD2xm': 9.607859999999999, 'ALDD2y': 9.603919999999999, 'ADK3m': 5.49203, 'ADK4m': 5.49203, 'ADNCYC': 4.87135, 'ALLTAHr': 8.48039, 'ALLTN': 9.99551, 'ALLTNti': 11.502191999999999, 'ALLTTti': 5.117959999999999, 'ALPHNH': 10.357709999999999, 'AMAOTr': 8.63298, '3DH5HPBMTm': 5.097429999999999, 'AMID': 4.26446, 'AMID2': 4.26446, 'AMID3': 4.26446, 'ARABR': 12.1771, 'ARGN': 6.836609999999999, '3IPM3MT': 0.15839999999999854, 'ARGTRSm': 6.67564, 'ARGt6': 4.120569999999999, 'ASNNe': 1.3134999999999994, 'ASNTRSm': 6.342899999999999, 'CAT': 8.523109999999999, 'CATp': 4.7626599999999994, 'ASPGLU2m': 7.21815, 'CDPDGPm_SC': 7.409489999999999, 'ASPTRSm': 5.578689999999999, 'ASPt2r': 8.1176, 'ASPt7': 6.96723, 'ATPS3m': 12.1771, 'CLPNSm_SC': 2.84558, 'CHOLK': 7.655829999999999, 'CHTNDA': 12.010995, 'COAHLp': 5.924499999999999, 'COAtim': 8.19699, 'CRNCARtm': 9.77014, 'CRNt': 11.644186999999999, 'CSNATm': 10.602049999999998, 'CSNATp': 10.602049999999998, 'CSNATr': 2.94876, 'DGGH': 11.229154999999999, 'CYOOm': 10.498009999999999, 'CYOR_u6m': 9.27544, 'CYSTL': 2.3763999999999985, 'CYSt2r': 5.038969999999999, 'DBTS': 4.69469, 'ECOAH4p': 11.469933, 'ECOAH5p': 11.469933, 'ECOAH6p': 11.469933, 'ECOAH7p': 11.469933, 'ECOAH8p': 11.469933, 'EPGALURSe': 11.587821, 'EPMGH': 10.9034, 'ERGSTGLCT': 6.944979999999999, 'D_LACt2': 11.290833, 'ETHAK': 1.5978999999999992, '5AOPt2': 11.475757999999999, 'ECOAH11p': 11.469933, '8AONNt2': 7.855809999999999, 'ABUTt2r': 11.475757999999999, 'ACACT4p': 11.720428, 'FACOAL161p': 7.458499999999999, 'ACACT5p': 11.720428, 'FA140COAabcp': 11.594790999999999, 'FACOAL80p': 7.458499999999999, 'FA141COAabcp': 11.594790999999999, 'FAS161ACPm': 7.145599999999999, 'FA160COAabcp': 11.594790999999999, 'FAO141p_even': 11.720428, 'FAO141p_odd': 11.720428, 'FAO161p_even': 11.720428, 'FAO161p_odd': 11.720428, 'FAO181p_even': 11.720428, 'FAO181p_odd': 11.720428, 'FAO182p_eveneven': 11.720428, 'FAO182p_evenodd': 11.720428, 'FAO182p_oddodd': 11.720428, 'FAO240p': 11.720428, 'FAO80p': 11.720428, 'FA161COAabcp': 11.594790999999999, 'FA180COAabcp': 11.594790999999999, 'FA181COAabcp': 11.594790999999999, 'FA182COAabcp': 11.594790999999999, 'FAS100ACPm': 7.145599999999999, 'FAS120ACPm': 7.145599999999999, 'FAS140ACPm': 7.145599999999999, 'FACOAL100p': 7.458499999999999, 'FAS141ACPm': 7.145599999999999, 'FACOAL120p': 7.458499999999999, 'FACOAL140p': 7.458499999999999, 'FACOAL141p': 7.458499999999999, 'FAS160ACPm': 7.145599999999999, 'FACOAL160p': 7.458499999999999, 'FAS180ACPm': 7.145599999999999, 'G3PDm': 11.618938, 'G3PIt': 8.661829999999998, 'FAS181ACPm': 7.145599999999999, 'FAS182ACPm': 7.145599999999999, 'FAS80ACPm_L': 7.145599999999999, 'GALIGH': 10.9034, 'GALKr': 8.79946, 'GALS3': 10.9034, 'GALT': 11.97942, 'GLUTRSm': 8.11318, 'GLUt7': 6.96723, 'GLUt7m': 7.21815, 'GALt2': 9.856539999999999, 'GBEZ': 10.921159999999999, 'GLYGS': 3.010819999999999, 'GLYOXm': 1.1529999999999987, 'GLYt2r': 6.16684, 'GPDDA1': 8.862779999999999, 'GGLGH': 10.9034, 'GLCGSD': 9.77548, 'GLCGSDv': 8.94229, 'GLCP': 0.6181000000000001, 'GLCS2': 3.010819999999999, 'GTHRDt2': 4.422969999999999, 'GTMLT': 8.4643, 'FBP': 9.473379999999999, 'FBP26': 9.279219999999999, 'GLUDC': 9.42606, 'GUAD': 11.324394, 'HACD10p': 11.469933, 'HACD4p': 11.469933, 'HACD5p': 11.469933, 'HACD6p': 11.469933, 'HACD7p': 11.469933, 'HACD8p': 11.469933, 'HEMEOMOm': 4.610079999999999, 'HEMEOSm': 4.111409999999999, 'FMETTRSm': 11.12631, 'FMNRx': 5.80282, 'FMNRx2': 5.80282, 'ICDHyr': 9.22712, 'ICDHyp': 11.333497, 'ICL': 5.149309999999999, 'LCYSTintv': 0.7900999999999989, 'LEUTA': 2.9983199999999997, 'LEUTRSm': 5.88592, 'ILETA': 2.9983199999999997, 'ILETRSm': 6.4261099999999995, 'LYSTRSm': 6.83484, 'MALS': 7.681279999999999, 'MALSp': 7.681279999999999, 'MALT': 2.2254499999999986, 'L_LACD2cm': 0.4155999999999995, 'L_LACt2r': 11.290833, 'MCITL2m': 7.901179999999999, 'MCITSm': 11.338280999999998, 'MCOATAm': 7.145599999999999, 'MDH': 9.93616, 'MELTGH': 10.9034, 'METTRSm': 4.892189999999999, 'MI13456PKn': 7.662769999999999, 'MI1345PKn': 8.43544, 'MI1456PKn': 8.43544, 'MI145P6Kn': 8.43544, 'MI145PKn': 8.43544, 'MI1PS': 9.96979, 'NAt3_1': 0.8747999999999987, 'NFORTYRt': 10.446729999999999, 'NFTYROX': 11.414382, 'NTD11': 4.47784, 'G3PCt': 8.661829999999998, 'PEPDt3': 4.6503, 'PETOHM_SC': 7.2429, 'OMCDC': 2.9983199999999997, 'ORNTA': 10.95365, 'PHETRSm': 5.9202699999999995, 'PI3P5K_SC': 10.06363, 'PI45BP5P_SC': 2.54655, 'PI45BPP_SC': 5.122419999999999, 'PIN3K_SC': 7.495379999999999, 'PIN4K_SC': 0.16829999999999856, 'PIN4Kn_SC': 0.18579999999999863, 'PLD_SC': 9.96631, 'PMI12346PS': 3.364849999999999, 'PPTTm': 2.160499999999999, 'PMI1346PS': 3.364849999999999, 'PYRt2': 11.290833, 'PPCK': 10.52918, 'RAFGH': 10.9034, 'RNMK': 0.8692999999999991, 'PRO1xm': 9.34704, 'SSALy': 8.28233, 'PROt2r': 8.1176, 'SBTD_D2': 12.1771, 'SBTD_L': 12.1771, 'SBTR': 12.1771, 'TAUDO': 9.14283, 'PSERDg_SC': 6.809169999999999, 'THRD_L': 1.8347999999999995, 'THRTRSm': 6.109329999999999, 'PSERDv_SC': 6.809169999999999, 'TRE6PP': 3.931989999999999, 'TRE6PS': 3.931989999999999, 'TREHv': 10.10333, 'VALTA': 2.9983199999999997, 'TRPTRSm': 4.33055, 'TRPt2r': 5.038969999999999, 'XYLR': 12.1771, 'XYLTD_D': 10.42212, 'TYRNFT': 9.92081, 'TYRTRSm': 3.0760199999999998, 'SERD_L': 7.613859999999999, 'UDPG4E': 10.536439999999999, 'UGLT': 11.97942, 'UGLYCH': 5.168729999999999, 'UPP3S': 0.059499999999999886, 'UREA2t2': 10.9575, 'UREASE': 10.357709999999999, 'PTE10x': 6.116909999999999, 'PTE11x': 6.116909999999999, 'PTE12x': 6.116909999999999, 'PTE2x': 6.116909999999999, 'PTE7x': 6.116909999999999, 'PTE8x': 6.116909999999999, 'PTE9x': 6.116909999999999}\n"
     ]
    },
    {
     "data": {
      "text/plain": [
       "<mewpy.omics.expression.ExpressionSet at 0x13848d57320>"
      ]
     },
     "execution_count": 23,
     "metadata": {},
     "output_type": "execute_result"
    }
   ],
   "source": [
    "# Only on Mewpy, we will first use the glucose medium and then the xylose medium.\n",
    "simul = get_simulator(model, envcond = envcond)\n",
    "\n",
    "#get genes and expression data\n",
    "genes = expression.index.values\n",
    "conditions = [\"Glucose_medium\"]\n",
    "exp = expression[conditions].to_numpy()\n",
    "\n",
    "# load expression module\n",
    "expr = ExpressionSet(genes, conditions, exp)\n",
    "\n",
    "# Apply parsimonious GIMME in the model\n",
    "g = GIMME(simul, expr, parsimonious= True)\n",
    "\n",
    "# Fluxes results\n",
    "g.find([\"XYLR\",\"XYLTD_D\",\"XYLK\",\"RPE\",\"EX_etoh_e\"])\n",
    "\n",
    "expr"
   ]
  },
  {
   "cell_type": "code",
   "execution_count": 14,
   "metadata": {
    "collapsed": false
   },
   "outputs": [
    {
     "name": "stdout",
     "output_type": "stream",
     "text": [
      "{'23CAPPD': 2.461309999999999, '2HMHMBQMTm': 5.65515, '2HP6MPMOm': 5.65515, '2HPMBQMTm': 5.65515, '2HPMMBQMOm': 5.65515, 'ACACT6p': 10.012038, 'ACACT7p': 10.012038, 'ACACT8p': 10.012038, 'ACACT9p': 10.012038, 'ACCOAC': 0.6516099999999998, 'ACCOACrm': 8.91855, 'ACOAO4p': 9.43627, 'ACOAO5p': 9.43627, 'ACOAO6p': 9.43627, 'ACOAO7p': 9.43627, 'ACOAO8p': 9.43627, 'ACOAO9p': 9.43627, 'ACOATAm': 6.089239999999999, 'ACP1e': 2.26731, 'ACt2r': 9.47025, 'ACtr': 10.106266, 'ADCL': 5.8835299999999995, 'ADCS': 4.1363199999999996, 'ADHAPR_SC': 5.98891, 'ADK1m': 4.96474, 'ALDD20y': 9.39377, 'ALDD2y': 9.39377, 'ADK3m': 4.96474, 'ADK4m': 4.96474, 'ADNCYC': 5.831519999999999, 'ALLTAHr': 4.17078, 'ALLTN': 7.742929999999999, 'ALLTNti': 10.299094, 'ALLTTti': 3.14051, 'ALPHNH': 7.725429999999999, 'AMAOTr': 7.968439999999999, '3DH5HPBMTm': 5.65515, 'AMID': 4.45411, 'AMID2': 6.68665, 'AMID3': 6.68665, 'ATPtp_H': 1.854659999999999, 'AP4AH': 1.1367499999999993, 'BACCL': 4.2519, 'ARABR': 10.61375, 'ARGN': 7.13842, 'BTSr': 2.8754, 'ARGTRSm': 4.40598, 'ASNTRSm': 0.37044999999999995, 'CATp': 0.4959499999999988, 'ASPGLU2m': 4.0032, 'CDPDGPm_SC': 5.619619999999999, 'ASPTRSm': 1.98358, 'ASPt2r': 4.94497, 'ATP2tp_H': 1.854659999999999, 'ATPS3m': 10.61375, 'CLPNSm_SC': 5.03142, 'CHOLK': 5.82667, 'CHTNDA': 10.473315, 'COAHLp': 4.6499999999999995, 'CRNCARtm': 2.94299, 'DCTPD': 2.199159999999999, 'CRNt': 5.35467, 'CSNATr': 6.35783, 'DGGH': 8.97782, 'CYOOm': 6.29275, 'CYOR_u6m': 7.1093399999999995, 'DHFR': 1.1244499999999995, 'CYSTL': 6.871029999999999, 'DHFRim': 1.1244499999999995, 'DHNPAm': 3.877039999999999, 'DHPSm': 3.877039999999999, 'DBTS': 7.86682, 'DCMPDA': 2.199159999999999, 'ECOAH4p': 7.89887, 'ECOAH5p': 7.89887, 'ECOAH6p': 7.89887, 'ECOAH7p': 7.89887, 'ECOAH8p': 7.89887, 'EPGALURSe': 10.140438999999999, 'DTMPK': 1.0790699999999998, 'EPMGH': 10.22463, '4MOPDC': 1.3937999999999988, 'ERGSTGLCT': 0.4457500000000003, 'ETHAK': 5.43049, '5AOPt2': 9.12994, 'ETHAPT_SC': 0.015549999999999287, 'ECOAH11p': 7.89887, '8AONNt2': 3.0982699999999994, 'AASAD1': 1.357619999999999, 'AASAD2': 1.357619999999999, 'ABUTt2r': 9.12994, 'ACACT4p': 10.012038, 'FACOAL161p': 5.425409999999999, 'ACACT5p': 10.012038, 'FA140COAabcp': 8.908669999999999, 'FACOAL80p': 5.425409999999999, 'FA141COAabcp': 8.908669999999999, 'FAS161ACPm': 6.089239999999999, 'FA160COAabcp': 8.908669999999999, 'FAO141p_even': 10.012038, 'FAO141p_odd': 10.012038, 'FAO161p_even': 10.012038, 'FAO161p_odd': 10.012038, 'FAO181p_even': 10.012038, 'FAO181p_odd': 10.012038, 'FAS180': 0.6516099999999998, 'FAO182p_eveneven': 10.012038, 'FAO182p_evenodd': 10.012038, 'FAO182p_oddodd': 10.012038, 'FAO240p': 10.012038, 'FAO80p': 10.012038, 'FAS100': 0.6516099999999998, 'FA161COAabcp': 8.908669999999999, 'FA180COAabcp': 8.908669999999999, 'FA181COAabcp': 8.908669999999999, 'FA182COAabcp': 8.908669999999999, 'FAS100ACPm': 6.089239999999999, 'FAS100COA': 0.6516099999999998, 'FAS120': 0.6516099999999998, 'FAS120ACPm': 6.089239999999999, 'FAS120COA': 0.6516099999999998, 'FAS140': 0.6516099999999998, 'FAS140ACPm': 6.089239999999999, 'FAS140COA': 0.6516099999999998, 'FACOAL100p': 5.425409999999999, 'FAS141ACPm': 6.089239999999999, 'FACOAL120p': 5.425409999999999, 'FACOAL140p': 5.425409999999999, 'FACOAL141p': 5.425409999999999, 'FAS160': 0.6516099999999998, 'FAS160ACPm': 6.089239999999999, 'FAS160COA': 0.6516099999999998, 'FACOAL160p': 5.425409999999999, 'FAS180ACPm': 6.089239999999999, 'G3PDm': 7.475709999999999, 'FAS180COA': 0.6516099999999998, 'G3PIt': 7.68173, 'FAS181ACPm': 6.089239999999999, 'FAS182ACPm': 6.089239999999999, 'FAS80ACPm_L': 6.089239999999999, 'GALIGH': 10.22463, 'GALKr': 6.2672, 'GALS3': 10.22463, 'GALT': 9.991838, 'GLUTRSm': 5.532579999999999, 'GLUt7m': 4.0032, 'GALt2': 6.2161, 'FAS80COA_L': 0.6516099999999998, 'GLYt2r': 4.94497, 'FAS80_L': 0.6516099999999998, 'GPDDA1': 8.54806, 'GGLGH': 10.22463, 'GLCGSDv': 5.351439999999999, 'GTHRDt2': 0.06124999999999936, 'GTHS': 5.36691, 'FBP': 6.04481, 'GUAD': 9.439879999999999, 'FCLTm': 6.83456, 'HACD10p': 7.89887, 'HACD4p': 7.89887, 'HACD5p': 7.89887, 'HACD6p': 7.89887, 'HACD7p': 7.89887, 'HACD8p': 7.89887, 'FMETTRSm': 9.61125, 'IPC124PLC_SC': 2.165899999999999, 'IPC126PLC_SC': 2.165899999999999, 'IPC224PLC_SC': 2.165899999999999, 'IPC226PLC_SC': 2.165899999999999, 'IPC324PLC_SC': 2.165899999999999, 'IPC326PLC_SC': 2.165899999999999, 'HPPKm': 3.877039999999999, 'FMNRx': 9.05091, 'FMNRx2': 9.05091, 'ITCOALm': 0.7218699999999991, 'KYN3OX': 2.28838, 'ICDHyp': 8.06715, 'ICL': 2.8840899999999996, 'FOLD3m': 3.877039999999999, 'LCYSTintv': 5.54052, 'LEUTRSm': 5.098929999999999, 'ILETRSm': 3.919009999999999, 'MALtm': 6.166569999999999, 'MAN6PI': 4.39943, 'MCITSm': 9.431809999999999, 'MCOATAm': 6.089239999999999, 'MIPC326PLC_SC': 2.165899999999999, 'MELTGH': 10.22463, 'METB1': 1.3715799999999998, 'METTRSm': 5.7625399999999996, 'MI13456PKn': 4.811929999999999, 'MIP2C124PLC_SC': 2.165899999999999, 'MIP2C126PLC_SC': 2.165899999999999, 'MIP2C224PLC_SC': 2.165899999999999, 'MIP2C226PLC_SC': 2.165899999999999, 'MIP2C324PLC_SC': 2.165899999999999, 'MIP2C326PLC_SC': 2.165899999999999, 'MIPC124PLC_SC': 2.165899999999999, 'MIPC126PLC_SC': 2.165899999999999, 'MIPC224PLC_SC': 2.165899999999999, 'MIPC226PLC_SC': 2.165899999999999, 'MIPC324PLC_SC': 2.165899999999999, 'NFORTYRt': 8.88726, 'NFTYROX': 9.691424999999999, 'G3PCt': 7.68173, 'ORNDC': 4.29528, 'ORNTA': 2.4264200000000002, 'ORNt3m': 3.287489999999999, 'PHETRSm': 5.55793, 'PI3P5K_SC': 9.26442, 'PPNDH': 5.13904, 'PI45BP5P_SC': 4.622579999999999, 'PI45BPP_SC': 4.977849999999999, 'PI4P5K_SC': 0.03914999999999935, 'PIN3K_SC': 7.451879999999999, 'PIN4K_SC': 3.14891, 'PIN4Kn_SC': 3.14891, 'PPPGOm': 4.4022499999999996, 'PLD_SC': 9.346079999999999, 'PMI12346PS': 4.12386, 'PMI1346PS': 4.12386, 'PPAm': 0.6195399999999989, 'PPCK': 5.818619999999999, 'RAFGH': 10.22463, 'RNDR1': 7.99991, 'RNDR1n': 7.99991, 'RNDR2': 7.99991, 'RNDR2n': 7.99991, 'RNDR3': 7.99991, 'RNDR3n': 7.99991, 'RNDR4': 7.99991, 'RNDR4n': 7.99991, 'RNMK': 7.323179999999999, 'PROt2r': 4.94497, 'SACCD1': 6.35253, 'SADT': 4.319999999999999, 'SBTD_D2': 10.61375, 'SBTD_L': 10.61375, 'SUCCtm': 6.166569999999999, 'SUCFUMtm': 6.166569999999999, 'SUCOASm': 0.7218699999999991, 'SBTR': 10.61375, 'TAUDO': 5.84111, 'THMPPt2m': 1.8161699999999996, 'PSERDg_SC': 8.53002, 'TMDPK': 7.54115, 'THRD_L': 5.4812199999999995, 'TMDPPK': 7.54115, 'TMDS': 8.440949999999999, 'PSERDv_SC': 8.53002, 'TRPO2': 7.9651, 'XYLR': 10.61375, 'TYRNFT': 9.08133, 'UDPACGLP': 5.928789999999999, 'SERD_L': 7.67507, 'UDPG4E': 8.26127, 'UGLT': 9.991838, 'UGLYCH': 7.06049, 'UPP3S': 3.9548799999999993, 'UREA2t2': 3.24287, 'UREASE': 7.725429999999999}\n"
     ]
    },
    {
     "data": {
      "text/html": [
       "<div>\n",
       "<style scoped>\n",
       "    .dataframe tbody tr th:only-of-type {\n",
       "        vertical-align: middle;\n",
       "    }\n",
       "\n",
       "    .dataframe tbody tr th {\n",
       "        vertical-align: top;\n",
       "    }\n",
       "\n",
       "    .dataframe thead th {\n",
       "        text-align: right;\n",
       "    }\n",
       "</style>\n",
       "<table border=\"1\" class=\"dataframe\">\n",
       "  <thead>\n",
       "    <tr style=\"text-align: right;\">\n",
       "      <th></th>\n",
       "      <th>Flux rate</th>\n",
       "    </tr>\n",
       "    <tr>\n",
       "      <th>Reaction ID</th>\n",
       "      <th></th>\n",
       "    </tr>\n",
       "  </thead>\n",
       "  <tbody>\n",
       "    <tr>\n",
       "      <th>EX_etoh_e</th>\n",
       "      <td>14.375908</td>\n",
       "    </tr>\n",
       "    <tr>\n",
       "      <th>RPE</th>\n",
       "      <td>-3.066580</td>\n",
       "    </tr>\n",
       "    <tr>\n",
       "      <th>XYLK</th>\n",
       "      <td>9.150000</td>\n",
       "    </tr>\n",
       "    <tr>\n",
       "      <th>XYLR</th>\n",
       "      <td>9.150000</td>\n",
       "    </tr>\n",
       "    <tr>\n",
       "      <th>XYLTD_D</th>\n",
       "      <td>9.150000</td>\n",
       "    </tr>\n",
       "  </tbody>\n",
       "</table>\n",
       "</div>"
      ],
      "text/plain": [
       "             Flux rate\n",
       "Reaction ID           \n",
       "EX_etoh_e    14.375908\n",
       "RPE          -3.066580\n",
       "XYLK          9.150000\n",
       "XYLR          9.150000\n",
       "XYLTD_D       9.150000"
      ]
     },
     "execution_count": 14,
     "metadata": {},
     "output_type": "execute_result"
    }
   ],
   "source": [
    "simul = get_simulator(model, envcond = envcond_xyl)\n",
    "\n",
    "#get genes and expression data\n",
    "genes = expression.index.values\n",
    "conditions = [\"Xylose_medium\"]\n",
    "exp = expression[conditions].to_numpy()\n",
    "\n",
    "# load expression module\n",
    "expr = ExpressionSet(genes, conditions, exp)\n",
    "\n",
    "# Apply parsimonious GIMME in the model\n",
    "g = GIMME(simul, expr, parsimonious=True)\n",
    "\n",
    "# Fluxes results\n",
    "g.find([\"XYLR\",\"XYLTD_D\",\"XYLK\",\"RPE\",\"EX_etoh_e\"])"
   ]
  },
  {
   "cell_type": "code",
   "execution_count": null,
   "metadata": {
    "collapsed": false
   },
   "outputs": [],
   "source": []
  }
 ],
 "metadata": {
  "kernelspec": {
   "display_name": "Python 3",
   "language": "python",
   "name": "python3"
  },
  "language_info": {
   "codemirror_mode": {
    "name": "ipython",
    "version": 3
   },
   "file_extension": ".py",
   "mimetype": "text/x-python",
   "name": "python",
   "nbconvert_exporter": "python",
   "pygments_lexer": "ipython3",
   "version": "3.7.1"
  }
 },
 "nbformat": 4,
 "nbformat_minor": 0
}
