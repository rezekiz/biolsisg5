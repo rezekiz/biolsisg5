{
 "cells": [
  {
   "cell_type": "code",
   "execution_count": 19,
   "metadata": {},
   "outputs": [],
   "source": [
    "# Importação de bibliotecas e módulos para resolução de exercícios\n",
    "\n",
    "from cobra.io import read_sbml_model\n",
    "from mewpy.simulation import get_simulator\n",
    "import cobra\n",
    "import pandas as pd\n",
    "\n",
    "from mewpy.omics import ExpressionSet\n",
    "from mewpy.omics import eFlux    \n",
    "        "
   ]
  },
  {
   "cell_type": "code",
   "execution_count": 20,
   "metadata": {},
   "outputs": [
    {
     "data": {
      "text/html": [
       "\n",
       "        <table>\n",
       "            <tr>\n",
       "                <td><strong>Name</strong></td>\n",
       "                <td>iRC1080</td>\n",
       "            </tr><tr>\n",
       "                <td><strong>Memory address</strong></td>\n",
       "                <td>17f68fd5518</td>\n",
       "            </tr><tr>\n",
       "                <td><strong>Number of metabolites</strong></td>\n",
       "                <td>1706</td>\n",
       "            </tr><tr>\n",
       "                <td><strong>Number of reactions</strong></td>\n",
       "                <td>2191</td>\n",
       "            </tr><tr>\n",
       "                <td><strong>Number of genes</strong></td>\n",
       "                <td>1086</td>\n",
       "            </tr><tr>\n",
       "                <td><strong>Number of groups</strong></td>\n",
       "                <td>0</td>\n",
       "            </tr><tr>\n",
       "                <td><strong>Objective expression</strong></td>\n",
       "                <td>1.0*BIOMASS_Chlamy_hetero - 1.0*BIOMASS_Chlamy_hetero_reverse_b1c3b</td>\n",
       "            </tr><tr>\n",
       "                <td><strong>Compartments</strong></td>\n",
       "                <td>cytosol, mitochondria, chloroplast, flagellum, peroxisome/glyoxysome, nucleus, golgi apparatus, extracellular space, eyespot, thylakoid</td>\n",
       "            </tr>\n",
       "          </table>"
      ],
      "text/plain": [
       "<Model iRC1080 at 0x17f68fd5518>"
      ]
     },
     "execution_count": 20,
     "metadata": {},
     "output_type": "execute_result"
    }
   ],
   "source": [
    "# Carregamos o modelo usando \n",
    "\n",
    "modelo_base = cobra.io.read_sbml_model('iRC1080_lv3.xml')\n",
    "modelo_base"
   ]
  },
  {
   "cell_type": "markdown",
   "metadata": {},
   "source": [
    "# Exercise 2\n",
    "\n",
    "In stress conditions, microalgae  often change  their  metabolism to fight the alterations in the environment. In these scenarios, some carbon can be secreted in the \n",
    "form  of  organic acids. Although  some  stress  conditions  can  be  replicated directly  in GSM  models,  others, such as  temperature,  pH,  salinity,  require  the addition of additional  information,  such  as  gene expression  data. The file “expression_data.tsv” contains  the  normalized  gene  expression  profile  of  C.  reinhardii in  two  conditions: control and stress. "
   ]
  },
  {
   "cell_type": "markdown",
   "metadata": {},
   "source": [
    "## 2.a. \n",
    "\n",
    "Integrate the  expression  data for  both  conditions  using  the  eFLUX  algorithm. \n",
    "If your metabolite is H2, use the column “Stress_h2” instead of “Stress”.  The environmental condition  for each group/metabolite is available in Table  1.\n"
   ]
  },
  {
   "cell_type": "code",
   "execution_count": 21,
   "metadata": {},
   "outputs": [
    {
     "data": {
      "text/html": [
       "\n",
       "        <table>\n",
       "            <tr>\n",
       "                <td><strong>Name</strong></td>\n",
       "                <td>iRC1080</td>\n",
       "            </tr><tr>\n",
       "                <td><strong>Memory address</strong></td>\n",
       "                <td>17f6e7ed160</td>\n",
       "            </tr><tr>\n",
       "                <td><strong>Number of metabolites</strong></td>\n",
       "                <td>1706</td>\n",
       "            </tr><tr>\n",
       "                <td><strong>Number of reactions</strong></td>\n",
       "                <td>2191</td>\n",
       "            </tr><tr>\n",
       "                <td><strong>Number of genes</strong></td>\n",
       "                <td>1086</td>\n",
       "            </tr><tr>\n",
       "                <td><strong>Number of groups</strong></td>\n",
       "                <td>0</td>\n",
       "            </tr><tr>\n",
       "                <td><strong>Objective expression</strong></td>\n",
       "                <td>1.0*EX_h2_e - 1.0*EX_h2_e_reverse_f55e9</td>\n",
       "            </tr><tr>\n",
       "                <td><strong>Compartments</strong></td>\n",
       "                <td>cytosol, mitochondria, chloroplast, flagellum, peroxisome/glyoxysome, nucleus, golgi apparatus, extracellular space, eyespot, thylakoid</td>\n",
       "            </tr>\n",
       "          </table>"
      ],
      "text/plain": [
       "<Model iRC1080 at 0x17f6e7ed160>"
      ]
     },
     "execution_count": 21,
     "metadata": {},
     "output_type": "execute_result"
    }
   ],
   "source": [
    "'''\n",
    "Definimos as condições ambientais. \n",
    "No caso do nosso grupo as condições são 'microaerobic mixotrophic'\n",
    "\n",
    "photon -2000\n",
    "co2 -11.6\n",
    "o2 -0.01\n",
    "acetate -10\n",
    "starch -1.72e-04\n",
    "\n",
    "'''\n",
    "modelo = modelo_base.copy()\n",
    "modelo.objective = 'EX_h2_e'\n",
    "\n",
    "cond_ambientais = {\n",
    "        'EX_photonVis_e':(-2000    , 1000),   # condições de luz\n",
    "        'EX_co2_e'      :(-11.6    , 1000),   # consumo C02\n",
    "        'EX_o2_e'       :(-0.01    , 1000),   # condições de microaerobiose\n",
    "        'EX_ac_e'       :(-10      , 1000),   # consumo acetato\n",
    "        'SK_starch300_h':(-1.72e-4 , 1000),   # consumo amido\n",
    "                    \n",
    "          }\n",
    "\n",
    "modelo"
   ]
  },
  {
   "cell_type": "code",
   "execution_count": 22,
   "metadata": {},
   "outputs": [],
   "source": [
    "'''# POSSIVELMENTE APAGAR POIS SERÁ ALTERADO NO EX 1\n",
    "# ALTERAMOS AS CONDICOES NO MODELO\n",
    "\n",
    "for condicao in cond_ambientais.keys():\n",
    "    mudar = modelo.reactions.get_by_id(condicao)\n",
    "    mudar.bounds = cond_ambientais[condicao]\n",
    "    #print(mudar.id, cond_ambientais[condicao])'''"
   ]
  },
  {
   "cell_type": "code",
   "execution_count": 23,
   "metadata": {},
   "outputs": [],
   "source": [
    "# Carregamento do ficheiro de dados de expressão genética\n",
    "\n",
    "exp_gen = pd.read_csv('expression_data.tsv',sep='\\t',index_col=0)\n",
    "\n",
    "# Como não nos interessa 'Stress_12' vamos eliminar a coluna\n",
    "\n",
    "exp_gen.drop('Stress_12h', axis = 1, inplace = True)"
   ]
  },
  {
   "cell_type": "code",
   "execution_count": 24,
   "metadata": {},
   "outputs": [
    {
     "data": {
      "text/plain": [
       "Index(['Control_12h', 'Stress_12_h2'], dtype='object')"
      ]
     },
     "execution_count": 24,
     "metadata": {},
     "output_type": "execute_result"
    }
   ],
   "source": [
    "exp_gen.columns"
   ]
  },
  {
   "cell_type": "code",
   "execution_count": 25,
   "metadata": {},
   "outputs": [
    {
     "data": {
      "text/plain": [
       "array(['Cre01.g000033.v5.5', 'Cre01.g000250.v5.5', 'Cre01.g000300.v5.5',\n",
       "       ..., 'Cre51.g761547.v5.5', 'Cre51.g761597.v5.5',\n",
       "       'Cre48.g761197.v5.5'], dtype=object)"
      ]
     },
     "execution_count": 25,
     "metadata": {},
     "output_type": "execute_result"
    }
   ],
   "source": [
    "exp_gen.index.values"
   ]
  },
  {
   "cell_type": "code",
   "execution_count": 26,
   "metadata": {},
   "outputs": [],
   "source": [
    "# Estabelecemos as condições para a simulação usando MEWpy\n",
    "simulador = get_simulator(modelo, envcond = cond_ambientais)\n",
    "\n",
    "# Tratamos os dados para integração\n",
    "\n",
    "genes      = exp_gen.index.values                     # Isolamos a lista de genes\n",
    "ccontrolo  = ['Control_12h' ]  # Definimos as nossas condições\n",
    "cstress    = ['Stress_12_h2']\n",
    "controlo   = exp_gen[ccontrolo].to_numpy()         # Definimos os dados de expressão para cada uma das condições - controlo\n",
    "stress     = exp_gen[cstress  ].to_numpy()         # Definimos os dados de expressão para cada uma das condições - stress\n",
    "\n",
    "# Criamos o módulo de expressão\n",
    "\n",
    "exp_controlo = ExpressionSet(genes, ccontrolo, controlo)\n",
    "exp_stress   = ExpressionSet(genes, cstress  , stress  )"
   ]
  },
  {
   "cell_type": "code",
   "execution_count": 27,
   "metadata": {},
   "outputs": [],
   "source": [
    "# Realizamos a integração dos dados para a condição controlo\n",
    "# Usamos o algoritmo eFLUX\n",
    "\n",
    "g_c = eFlux(simulador,exp_controlo)\n"
   ]
  },
  {
   "cell_type": "code",
   "execution_count": 52,
   "metadata": {},
   "outputs": [
    {
     "data": {
      "text/html": [
       "<div>\n",
       "<style scoped>\n",
       "    .dataframe tbody tr th:only-of-type {\n",
       "        vertical-align: middle;\n",
       "    }\n",
       "\n",
       "    .dataframe tbody tr th {\n",
       "        vertical-align: top;\n",
       "    }\n",
       "\n",
       "    .dataframe thead th {\n",
       "        text-align: right;\n",
       "    }\n",
       "</style>\n",
       "<table border=\"1\" class=\"dataframe\">\n",
       "  <thead>\n",
       "    <tr style=\"text-align: right;\">\n",
       "      <th></th>\n",
       "      <th>Flux rate</th>\n",
       "    </tr>\n",
       "    <tr>\n",
       "      <th>Reaction ID</th>\n",
       "      <th></th>\n",
       "    </tr>\n",
       "  </thead>\n",
       "  <tbody>\n",
       "    <tr>\n",
       "      <th>H2td</th>\n",
       "      <td>0.000459</td>\n",
       "    </tr>\n",
       "  </tbody>\n",
       "</table>\n",
       "</div>"
      ],
      "text/plain": [
       "             Flux rate\n",
       "Reaction ID           \n",
       "H2td          0.000459"
      ]
     },
     "execution_count": 52,
     "metadata": {},
     "output_type": "execute_result"
    }
   ],
   "source": [
    "g_c.find(['H2td']) "
   ]
  },
  {
   "cell_type": "code",
   "execution_count": 29,
   "metadata": {},
   "outputs": [],
   "source": [
    "#g_c.fluxes"
   ]
  },
  {
   "cell_type": "code",
   "execution_count": 59,
   "metadata": {},
   "outputs": [],
   "source": [
    "# Realizamos a integração dos dados para a condição de stress\n",
    "# Usamos o algoritmo eFLUX\n",
    "\n",
    "g_s = eFlux(simulador,exp_stress)"
   ]
  },
  {
   "cell_type": "code",
   "execution_count": 58,
   "metadata": {},
   "outputs": [
    {
     "data": {
      "text/html": [
       "<div>\n",
       "<style scoped>\n",
       "    .dataframe tbody tr th:only-of-type {\n",
       "        vertical-align: middle;\n",
       "    }\n",
       "\n",
       "    .dataframe tbody tr th {\n",
       "        vertical-align: top;\n",
       "    }\n",
       "\n",
       "    .dataframe thead th {\n",
       "        text-align: right;\n",
       "    }\n",
       "</style>\n",
       "<table border=\"1\" class=\"dataframe\">\n",
       "  <thead>\n",
       "    <tr style=\"text-align: right;\">\n",
       "      <th></th>\n",
       "      <th>Flux rate</th>\n",
       "    </tr>\n",
       "    <tr>\n",
       "      <th>Reaction ID</th>\n",
       "      <th></th>\n",
       "    </tr>\n",
       "  </thead>\n",
       "  <tbody>\n",
       "    <tr>\n",
       "      <th>H2td</th>\n",
       "      <td>0.143033</td>\n",
       "    </tr>\n",
       "  </tbody>\n",
       "</table>\n",
       "</div>"
      ],
      "text/plain": [
       "             Flux rate\n",
       "Reaction ID           \n",
       "H2td          0.143033"
      ]
     },
     "execution_count": 58,
     "metadata": {},
     "output_type": "execute_result"
    }
   ],
   "source": [
    "g_s.find(['H2td'])"
   ]
  },
  {
   "cell_type": "markdown",
   "metadata": {},
   "source": [
    "## 2.b"
   ]
  },
  {
   "cell_type": "markdown",
   "metadata": {},
   "source": [
    "|Controlo|Stress|\n",
    "|-|-|\n",
    "|4.59e-4|0.143|\n",
    "\n",
    "Atendendo aos resultados blablabla a C. reinhcoisas produz mais em situações de stress.\n",
    "\n",
    "|Resultados 1b|Controlo|Stress|\n",
    "|-|-|-|\n",
    "|4.274|0.000459|0.143|\n",
    "\n",
    "\n"
   ]
  },
  {
   "cell_type": "markdown",
   "metadata": {},
   "source": [
    "# Exercise 3"
   ]
  },
  {
   "cell_type": "markdown",
   "metadata": {},
   "source": [
    "## 3.a"
   ]
  },
  {
   "cell_type": "code",
   "execution_count": null,
   "metadata": {},
   "outputs": [],
   "source": [
    "# Fazemos uma cópia do modelo \"intacto\" , não indica pelo que não vou adaptar às condições microaerobic mixotrophic\n",
    "\n",
    "modelo = modelo_base.copy()\n",
    "modelo.objective = 'BIOMASS_Chlamy_mixo'\n"
   ]
  },
  {
   "cell_type": "code",
   "execution_count": null,
   "metadata": {},
   "outputs": [],
   "source": [
    "# Genes essenciais\n",
    "\n",
    "genes_ess = cobra.flux_analysis.find_essential_genes(modelo)"
   ]
  },
  {
   "cell_type": "code",
   "execution_count": null,
   "metadata": {},
   "outputs": [],
   "source": [
    "len(genes_ess)"
   ]
  },
  {
   "cell_type": "code",
   "execution_count": null,
   "metadata": {},
   "outputs": [],
   "source": [
    "# Reacções essenciais\n",
    "reacts_ess = cobra.flux_analysis.find_essential_reactions(modelo)"
   ]
  },
  {
   "cell_type": "code",
   "execution_count": null,
   "metadata": {},
   "outputs": [],
   "source": [
    "len(reacts_ess)"
   ]
  },
  {
   "cell_type": "markdown",
   "metadata": {},
   "source": [
    "## 3.b"
   ]
  },
  {
   "cell_type": "code",
   "execution_count": null,
   "metadata": {},
   "outputs": [],
   "source": [
    "# Single deletions\n",
    "\n",
    "# Genes\n",
    "\n",
    "single_gen_del = cobra.flux_analysis.single_gene_deletion(modelo)\n"
   ]
  },
  {
   "cell_type": "code",
   "execution_count": null,
   "metadata": {},
   "outputs": [],
   "source": [
    "# Reacoes\n",
    "\n",
    "single_reac_del = cobra.flux_analysis.single_reaction_deletion(modelo)"
   ]
  },
  {
   "cell_type": "code",
   "execution_count": null,
   "metadata": {},
   "outputs": [],
   "source": [
    "# Double deletions\n",
    "# Genes\n",
    "\n",
    "# double_gen_del = cobra.flux_analysis.double_gene_deletion(modelo)"
   ]
  },
  {
   "cell_type": "code",
   "execution_count": null,
   "metadata": {},
   "outputs": [],
   "source": [
    "# Reacoes\n",
    "\n",
    "# double_reac_del = cobra.flux_analysis.double_reaction_deletion(modelo)"
   ]
  },
  {
   "cell_type": "code",
   "execution_count": null,
   "metadata": {},
   "outputs": [],
   "source": [
    "single_gen_del"
   ]
  },
  {
   "cell_type": "code",
   "execution_count": null,
   "metadata": {},
   "outputs": [],
   "source": [
    "single_reac_del"
   ]
  },
  {
   "cell_type": "code",
   "execution_count": null,
   "metadata": {},
   "outputs": [],
   "source": [
    "double_gen_del"
   ]
  },
  {
   "cell_type": "code",
   "execution_count": null,
   "metadata": {},
   "outputs": [],
   "source": [
    "double_reac_del"
   ]
  }
 ],
 "metadata": {
  "kernelspec": {
   "display_name": "Python 3",
   "language": "python",
   "name": "python3"
  },
  "language_info": {
   "codemirror_mode": {
    "name": "ipython",
    "version": 3
   },
   "file_extension": ".py",
   "mimetype": "text/x-python",
   "name": "python",
   "nbconvert_exporter": "python",
   "pygments_lexer": "ipython3",
   "version": "3.7.1"
  }
 },
 "nbformat": 4,
 "nbformat_minor": 2
}
