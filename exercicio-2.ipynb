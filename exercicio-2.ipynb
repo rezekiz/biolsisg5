{
 "cells": [
  {
   "cell_type": "code",
   "execution_count": 2,
   "metadata": {},
   "outputs": [],
   "source": [
    "# Importação de bibliotecas e módulos para resolução de exercícios\n",
    "\n",
    "from cobra.io import read_sbml_model\n",
    "from mewpy.simulation import get_simulator\n",
    "from mewpy.omics import ExpressionSet\n",
    "from mewpy.omics import eFlux  \n",
    "import pandas as pd\n",
    "\n",
    "\n"
   ]
  },
  {
   "cell_type": "code",
   "execution_count": 3,
   "metadata": {},
   "outputs": [
    {
     "data": {
      "text/html": [
       "\n",
       "        <table>\n",
       "            <tr>\n",
       "                <td><strong>Name</strong></td>\n",
       "                <td>iRC1080</td>\n",
       "            </tr><tr>\n",
       "                <td><strong>Memory address</strong></td>\n",
       "                <td>1a0c8b73940</td>\n",
       "            </tr><tr>\n",
       "                <td><strong>Number of metabolites</strong></td>\n",
       "                <td>1706</td>\n",
       "            </tr><tr>\n",
       "                <td><strong>Number of reactions</strong></td>\n",
       "                <td>2191</td>\n",
       "            </tr><tr>\n",
       "                <td><strong>Number of genes</strong></td>\n",
       "                <td>1086</td>\n",
       "            </tr><tr>\n",
       "                <td><strong>Number of groups</strong></td>\n",
       "                <td>0</td>\n",
       "            </tr><tr>\n",
       "                <td><strong>Objective expression</strong></td>\n",
       "                <td>1.0*BIOMASS_Chlamy_hetero - 1.0*BIOMASS_Chlamy_hetero_reverse_b1c3b</td>\n",
       "            </tr><tr>\n",
       "                <td><strong>Compartments</strong></td>\n",
       "                <td>cytosol, mitochondria, chloroplast, flagellum, peroxisome/glyoxysome, nucleus, golgi apparatus, extracellular space, eyespot, thylakoid</td>\n",
       "            </tr>\n",
       "          </table>"
      ],
      "text/plain": [
       "<Model iRC1080 at 0x1a0c8b73940>"
      ]
     },
     "execution_count": 3,
     "metadata": {},
     "output_type": "execute_result"
    }
   ],
   "source": [
    "# Carregamos o modelo usando \n",
    "\n",
    "model = modelo_base = read_sbml_model('iRC1080_lv3.xml')\n",
    "modelo_base"
   ]
  },
  {
   "cell_type": "markdown",
   "metadata": {},
   "source": [
    "# Exercise 2\n",
    "\n",
    "In stress conditions, microalgae  often change  their  metabolism to fight the alterations in the environment. In these scenarios, some carbon can be secreted in the \n",
    "form  of  organic acids. Although  some  stress  conditions  can  be  replicated directly  in GSM  models,  others, such as  temperature,  pH,  salinity,  require  the addition of additional  information,  such  as  gene expression  data. The file “expression_data.tsv” contains  the  normalized  gene  expression  profile  of  C.  reinhardii in  two  conditions: control and stress. "
   ]
  },
  {
   "cell_type": "markdown",
   "metadata": {},
   "source": [
    "## 2.a. \n",
    "\n",
    "Integrate the  expression  data for  both  conditions  using  the  eFLUX  algorithm. \n",
    "If your metabolite is H2, use the column “Stress_h2” instead of “Stress”.  The environmental condition  for each group/metabolite is available in Table  1.\n"
   ]
  },
  {
   "cell_type": "code",
   "execution_count": 4,
   "metadata": {},
   "outputs": [],
   "source": [
    "'''\n",
    "Definimos as condições ambientais. \n",
    "No caso do nosso grupo as condições são 'microaerobic mixotrophic'\n",
    "\n",
    "photon -2000\n",
    "co2 -11.6\n",
    "o2 -0.01\n",
    "acetate -10\n",
    "starch -1.72e-04\n",
    "\n",
    "'''\n",
    "modelo = modelo_base.copy()\n",
    "modelo.objective = 'EX_h2_e'\n",
    "\n",
    "modelo\n",
    "cond_ambientais = {\n",
    "        'EX_photonVis_e':(-2000    , 1000),   # condições de luz\n",
    "        'EX_co2_e'      :(-11.6    , 1000),   # consumo C02\n",
    "        'EX_o2_e'       :(-0.01    , 1000),   # condições de microaerobiose\n",
    "        'EX_ac_e'       :(-10      , 1000),   # consumo acetato\n",
    "        'SK_starch300_h':(-1.72e-4 , 1000),   # consumo amido\n",
    "                    \n",
    "          }\n",
    "\n"
   ]
  },
  {
   "cell_type": "code",
   "execution_count": 5,
   "metadata": {},
   "outputs": [],
   "source": [
    "# Estabelecemos as condições para a simulação usando MEWpy\n",
    "simulador = get_simulator(modelo, envcond = cond_ambientais)"
   ]
  },
  {
   "cell_type": "code",
   "execution_count": 6,
   "metadata": {},
   "outputs": [],
   "source": [
    "# Carregamento do ficheiro de dados de expressão genética\n",
    "exp_gen = pd.read_csv('expression_data.tsv',sep='\\t',index_col=0)\n",
    "\n",
    "# Como não nos interessa 'Stress_12' vamos eliminar a coluna\n",
    "exp_gen.drop('Stress_12h', axis = 1, inplace = True)"
   ]
  },
  {
   "cell_type": "code",
   "execution_count": 7,
   "metadata": {},
   "outputs": [],
   "source": [
    "# Tratamos os dados para integração\n",
    "\n",
    "# Definimos a variável com os genes \n",
    "genes      = exp_gen.index.values\n",
    "\n",
    "# Definimos as variáveis para a condição de controlo\n",
    "ccontrolo  = ['Control_12h' ] \n",
    "controlo   = exp_gen[ccontrolo].to_numpy()     \n",
    "\n",
    "# Definimos o ExpressionSet para integração\n",
    "exp_controlo = ExpressionSet(genes, ccontrolo, controlo)\n",
    "\n",
    "# Definimos as variáveis para a condição de stress\n",
    "cstress    = ['Stress_12_h2']\n",
    "stress     = exp_gen[cstress  ].to_numpy()         # Definimos os dados de expressão para cada uma das condições - stress\n",
    "\n",
    "# Definimos o ExpressionSet para integração\n",
    "exp_stress   = ExpressionSet(genes, cstress  , stress  )\n",
    "\n"
   ]
  },
  {
   "cell_type": "code",
   "execution_count": 8,
   "metadata": {},
   "outputs": [
    {
     "data": {
      "text/plain": [
       "{'EX_h2_e': 1.0}"
      ]
     },
     "execution_count": 8,
     "metadata": {},
     "output_type": "execute_result"
    }
   ],
   "source": [
    "# Confirmamos o objetivo do modelo\n",
    "simulador.objective"
   ]
  },
  {
   "cell_type": "code",
   "execution_count": 9,
   "metadata": {},
   "outputs": [
    {
     "data": {
      "text/html": [
       "<div>\n",
       "<style scoped>\n",
       "    .dataframe tbody tr th:only-of-type {\n",
       "        vertical-align: middle;\n",
       "    }\n",
       "\n",
       "    .dataframe tbody tr th {\n",
       "        vertical-align: top;\n",
       "    }\n",
       "\n",
       "    .dataframe thead th {\n",
       "        text-align: right;\n",
       "    }\n",
       "</style>\n",
       "<table border=\"1\" class=\"dataframe\">\n",
       "  <thead>\n",
       "    <tr style=\"text-align: right;\">\n",
       "      <th></th>\n",
       "      <th>name</th>\n",
       "      <th>lb</th>\n",
       "      <th>ub</th>\n",
       "      <th>stoichiometry</th>\n",
       "      <th>gpr</th>\n",
       "      <th>annotations</th>\n",
       "    </tr>\n",
       "    <tr>\n",
       "      <th>id</th>\n",
       "      <th></th>\n",
       "      <th></th>\n",
       "      <th></th>\n",
       "      <th></th>\n",
       "      <th></th>\n",
       "      <th></th>\n",
       "    </tr>\n",
       "  </thead>\n",
       "  <tbody>\n",
       "    <tr>\n",
       "      <th>EX_photonVis_e</th>\n",
       "      <td>Photon emission</td>\n",
       "      <td>-2000.000000</td>\n",
       "      <td>1000</td>\n",
       "      <td>{'photonVis_e': -1.0}</td>\n",
       "      <td></td>\n",
       "      <td>{'sbo': 'SBO:0000627', 'bigg.reaction': 'EX_ph...</td>\n",
       "    </tr>\n",
       "    <tr>\n",
       "      <th>EX_o2_e</th>\n",
       "      <td>O2 exchange</td>\n",
       "      <td>-0.010000</td>\n",
       "      <td>1000</td>\n",
       "      <td>{'o2_e': -1.0}</td>\n",
       "      <td></td>\n",
       "      <td>{'sbo': 'SBO:0000627', 'bigg.reaction': 'EX_o2...</td>\n",
       "    </tr>\n",
       "    <tr>\n",
       "      <th>EX_co2_e</th>\n",
       "      <td>CO2 exchange</td>\n",
       "      <td>-11.600000</td>\n",
       "      <td>1000</td>\n",
       "      <td>{'co2_e': -1.0}</td>\n",
       "      <td></td>\n",
       "      <td>{'sbo': 'SBO:0000627', 'bigg.reaction': 'EX_co...</td>\n",
       "    </tr>\n",
       "    <tr>\n",
       "      <th>SK_starch300_h</th>\n",
       "      <td>Store of starch</td>\n",
       "      <td>-0.000172</td>\n",
       "      <td>1000</td>\n",
       "      <td>{'starch300_h': -1.0}</td>\n",
       "      <td></td>\n",
       "      <td>{'sbo': 'SBO:0000632', 'bigg.reaction': 'SK_st...</td>\n",
       "    </tr>\n",
       "    <tr>\n",
       "      <th>EX_ac_e</th>\n",
       "      <td>Acetate exchange</td>\n",
       "      <td>-10.000000</td>\n",
       "      <td>1000</td>\n",
       "      <td>{'ac_e': -1.0}</td>\n",
       "      <td></td>\n",
       "      <td>{'sbo': 'SBO:0000627', 'bigg.reaction': 'EX_ac...</td>\n",
       "    </tr>\n",
       "  </tbody>\n",
       "</table>\n",
       "</div>"
      ],
      "text/plain": [
       "                            name           lb    ub          stoichiometry  \\\n",
       "id                                                                           \n",
       "EX_photonVis_e   Photon emission -2000.000000  1000  {'photonVis_e': -1.0}   \n",
       "EX_o2_e              O2 exchange    -0.010000  1000         {'o2_e': -1.0}   \n",
       "EX_co2_e            CO2 exchange   -11.600000  1000        {'co2_e': -1.0}   \n",
       "SK_starch300_h   Store of starch    -0.000172  1000  {'starch300_h': -1.0}   \n",
       "EX_ac_e         Acetate exchange   -10.000000  1000         {'ac_e': -1.0}   \n",
       "\n",
       "               gpr                                        annotations  \n",
       "id                                                                     \n",
       "EX_photonVis_e      {'sbo': 'SBO:0000627', 'bigg.reaction': 'EX_ph...  \n",
       "EX_o2_e             {'sbo': 'SBO:0000627', 'bigg.reaction': 'EX_o2...  \n",
       "EX_co2_e            {'sbo': 'SBO:0000627', 'bigg.reaction': 'EX_co...  \n",
       "SK_starch300_h      {'sbo': 'SBO:0000632', 'bigg.reaction': 'SK_st...  \n",
       "EX_ac_e             {'sbo': 'SBO:0000627', 'bigg.reaction': 'EX_ac...  "
      ]
     },
     "execution_count": 9,
     "metadata": {},
     "output_type": "execute_result"
    }
   ],
   "source": [
    "# Validação de condições ambientais\n",
    "simulador.find(['EX_photonVis_e','EX_co2_e','EX_o2_e','EX_ac_e','SK_starch300_h'])"
   ]
  },
  {
   "cell_type": "code",
   "execution_count": 10,
   "metadata": {},
   "outputs": [],
   "source": [
    "# Realizamos a integração dos dados para a condição controlo com eFlux\n",
    "g_c = eFlux(simulador,exp_controlo)"
   ]
  },
  {
   "cell_type": "code",
   "execution_count": 11,
   "metadata": {},
   "outputs": [
    {
     "data": {
      "text/html": [
       "<div>\n",
       "<style scoped>\n",
       "    .dataframe tbody tr th:only-of-type {\n",
       "        vertical-align: middle;\n",
       "    }\n",
       "\n",
       "    .dataframe tbody tr th {\n",
       "        vertical-align: top;\n",
       "    }\n",
       "\n",
       "    .dataframe thead th {\n",
       "        text-align: right;\n",
       "    }\n",
       "</style>\n",
       "<table border=\"1\" class=\"dataframe\">\n",
       "  <thead>\n",
       "    <tr style=\"text-align: right;\">\n",
       "      <th></th>\n",
       "      <th>Flux rate</th>\n",
       "    </tr>\n",
       "    <tr>\n",
       "      <th>Reaction ID</th>\n",
       "      <th></th>\n",
       "    </tr>\n",
       "  </thead>\n",
       "  <tbody>\n",
       "    <tr>\n",
       "      <th>EX_h2_e</th>\n",
       "      <td>0.000459</td>\n",
       "    </tr>\n",
       "  </tbody>\n",
       "</table>\n",
       "</div>"
      ],
      "text/plain": [
       "             Flux rate\n",
       "Reaction ID           \n",
       "EX_h2_e       0.000459"
      ]
     },
     "execution_count": 11,
     "metadata": {},
     "output_type": "execute_result"
    }
   ],
   "source": [
    "# Procuramos a reação de produção do nosso composto (H2)\n",
    "g_c.find('h2_e') "
   ]
  },
  {
   "cell_type": "code",
   "execution_count": 12,
   "metadata": {},
   "outputs": [],
   "source": [
    "# Repetimos agora para a condição de stress\n",
    "g_s = eFlux(simulador,exp_stress)"
   ]
  },
  {
   "cell_type": "code",
   "execution_count": 13,
   "metadata": {},
   "outputs": [
    {
     "data": {
      "text/html": [
       "<div>\n",
       "<style scoped>\n",
       "    .dataframe tbody tr th:only-of-type {\n",
       "        vertical-align: middle;\n",
       "    }\n",
       "\n",
       "    .dataframe tbody tr th {\n",
       "        vertical-align: top;\n",
       "    }\n",
       "\n",
       "    .dataframe thead th {\n",
       "        text-align: right;\n",
       "    }\n",
       "</style>\n",
       "<table border=\"1\" class=\"dataframe\">\n",
       "  <thead>\n",
       "    <tr style=\"text-align: right;\">\n",
       "      <th></th>\n",
       "      <th>Flux rate</th>\n",
       "    </tr>\n",
       "    <tr>\n",
       "      <th>Reaction ID</th>\n",
       "      <th></th>\n",
       "    </tr>\n",
       "  </thead>\n",
       "  <tbody>\n",
       "    <tr>\n",
       "      <th>EX_h2_e</th>\n",
       "      <td>0.143033</td>\n",
       "    </tr>\n",
       "  </tbody>\n",
       "</table>\n",
       "</div>"
      ],
      "text/plain": [
       "             Flux rate\n",
       "Reaction ID           \n",
       "EX_h2_e       0.143033"
      ]
     },
     "execution_count": 13,
     "metadata": {},
     "output_type": "execute_result"
    }
   ],
   "source": [
    "g_s.find('h2_e')"
   ]
  },
  {
   "cell_type": "markdown",
   "metadata": {},
   "source": [
    "## 2.b"
   ]
  },
  {
   "cell_type": "markdown",
   "metadata": {},
   "source": [
    "### Comparação Condições Controlo vs Stress em simulação com integração de dados de expressão genética\n",
    "|Controlo|Stress|\n",
    "|-|-|\n",
    "|4.59e-4|0.143|\n",
    "\n",
    "Analisando os resultados da simulação após a integração dos dados de expressão genética para as diferentes condições, é plausível considerar que a microalga C. reinhairdtii apresenta uma maior produção de hidrogénio molecular em situações de stress. Estes dados são congruentes com algumas referências bibliográficas encontradas, sustendando esta tendência.\n",
    "\n",
    "**Referências bibliográficas**\n",
    "Aprofundar:\n",
    "https://onlinelibrary.wiley.com/doi/10.1111/pbi.12062\n",
    "https://www.ncbi.nlm.nih.gov/pmc/articles/PMC6712067/\n",
    "\n",
    "### Comparação de resultados de simulação com integração *versus* sem integração\n",
    "\n",
    "|Resultados 1b|Controlo|Stress|\n",
    "|-|-|-|\n",
    "|4.274|0.000459|0.143|\n",
    "\n",
    "Ao analisar os resultados das simulações com e sem integração de dados de expressão génica é notória uma grande discrepância entre os resultados obtidos na alinea B do exercício 1 vs a alinea A do exercício 2. Esta discrepância poderá estar relacionada com a abordagem de integração de dados de expressão genética restringirem e optimizarem o modelo ao integrar dados empíricos, resultantes das restrições/condições do meio real. Tal não acontece na simulação teórica que, embora tenha um modelo matemático complexo e preciso, conta sempre com dados simulados.\n",
    "\n",
    "Estes resultados são congruentes com literatura encontrada sobre este tópico.\n",
    "\n",
    "**Referências**\n",
    "\n",
    "[Exploring the associations between transcript levels and fluxes in constraint-based models of metabolism](https://bmcbioinformatics.biomedcentral.com/articles/10.1186/s12859-021-04488-8)\n",
    "\n",
    "\n"
   ]
  },
  {
   "cell_type": "markdown",
   "metadata": {},
   "source": [
    "# Exercise 3"
   ]
  },
  {
   "cell_type": "markdown",
   "metadata": {},
   "source": [
    "## 3.a"
   ]
  },
  {
   "cell_type": "markdown",
   "metadata": {},
   "source": [
    "### Versão com MEWpy    "
   ]
  },
  {
   "cell_type": "code",
   "execution_count": 14,
   "metadata": {},
   "outputs": [
    {
     "data": {
      "text/plain": [
       "{'EX_h2_e': 1.0}"
      ]
     },
     "execution_count": 14,
     "metadata": {},
     "output_type": "execute_result"
    }
   ],
   "source": [
    "# Abordagem usando MEWPy orientado ao modelo de produção do composto-alvo\n",
    "simulador.objective"
   ]
  },
  {
   "cell_type": "code",
   "execution_count": 15,
   "metadata": {},
   "outputs": [
    {
     "name": "stderr",
     "output_type": "stream",
     "text": [
      "100%|██████████| 1086/1086 [00:10<00:00, 107.64it/s]\n"
     ]
    },
    {
     "data": {
      "text/plain": [
       "['CRv4_Au5_s11_g2553_t1']"
      ]
     },
     "execution_count": 15,
     "metadata": {},
     "output_type": "execute_result"
    }
   ],
   "source": [
    "# Para encontrar a lista de genes essenciais para o objetivo do modelo:\n",
    "simulador.essential_genes()"
   ]
  },
  {
   "cell_type": "code",
   "execution_count": 16,
   "metadata": {},
   "outputs": [
    {
     "name": "stderr",
     "output_type": "stream",
     "text": [
      "  0%|          | 0/2191 [00:00<?, ?it/s]"
     ]
    },
    {
     "name": "stderr",
     "output_type": "stream",
     "text": [
      "100%|██████████| 2191/2191 [00:14<00:00, 152.31it/s]\n"
     ]
    },
    {
     "data": {
      "text/plain": [
       "['EX_h2_e',\n",
       " 'DM_photon298_c',\n",
       " 'DM_photon438_u',\n",
       " 'DM_photon450_h',\n",
       " 'DM_photon646_h',\n",
       " 'DM_photon673_u',\n",
       " 'H2td',\n",
       " 'H2th',\n",
       " 'HYDAh',\n",
       " 'PYRShi']"
      ]
     },
     "execution_count": 16,
     "metadata": {},
     "output_type": "execute_result"
    }
   ],
   "source": [
    "# Para encontrar a lista de reações essenciais:\n",
    "simulador.essential_reactions()"
   ]
  },
  {
   "cell_type": "markdown",
   "metadata": {},
   "source": [
    "## 3.b \n",
    "\n",
    "Using gene knockout  optimization  strategies, identify  sets  of  solutions  to  improve \n",
    "the  production  of  the  compound.  Through  the  optimization  process  account  for the \n",
    "BCPY and WYIELD to evaluate the solutions."
   ]
  },
  {
   "cell_type": "code",
   "execution_count": 17,
   "metadata": {},
   "outputs": [],
   "source": [
    "# Definimos os parâmetros para o problema de otimização\n",
    "\n",
    "PRODUCT_ID = 'EX_h2_e'\n",
    "BIOMASS_ID = 'BIOMASS_Chlamy_mixo'"
   ]
  },
  {
   "cell_type": "code",
   "execution_count": 18,
   "metadata": {},
   "outputs": [],
   "source": [
    "# Optimization objectives\n",
    "from mewpy.optimization.evaluation import  BPCY, WYIELD\n",
    "evaluator_1 = BPCY(BIOMASS_ID, PRODUCT_ID, method='lMOMA')\n",
    "evaluator_2 = WYIELD(BIOMASS_ID, PRODUCT_ID)"
   ]
  },
  {
   "cell_type": "code",
   "execution_count": 19,
   "metadata": {},
   "outputs": [],
   "source": [
    "# Definimos o nosso problema de otimização - Gene Knockout \n",
    "from mewpy.problems import GKOProblem\n",
    "problem = GKOProblem(model, fevaluation=[\n",
    "                         evaluator_1, evaluator_2], envcond=cond_ambientais)"
   ]
  },
  {
   "cell_type": "code",
   "execution_count": 20,
   "metadata": {},
   "outputs": [
    {
     "name": "stdout",
     "output_type": "stream",
     "text": [
      "Building modification target list.\n"
     ]
    },
    {
     "name": "stderr",
     "output_type": "stream",
     "text": [
      "  0%|          | 0/1086 [00:00<?, ?it/s]"
     ]
    },
    {
     "name": "stderr",
     "output_type": "stream",
     "text": [
      "100%|██████████| 1086/1086 [00:10<00:00, 102.85it/s]\n"
     ]
    },
    {
     "name": "stdout",
     "output_type": "stream",
     "text": [
      "Running NSGAII\n"
     ]
    }
   ],
   "source": [
    "# Corremos a simulação\n",
    "from mewpy.optimization import EA\n",
    "ea = EA(problem, max_generations= 100, visualizer=True)\n",
    "# final_pop = ea.run()"
   ]
  },
  {
   "cell_type": "code",
   "execution_count": null,
   "metadata": {},
   "outputs": [],
   "source": []
  }
 ],
 "metadata": {
  "kernelspec": {
   "display_name": "Python 3",
   "language": "python",
   "name": "python3"
  },
  "language_info": {
   "codemirror_mode": {
    "name": "ipython",
    "version": 3
   },
   "file_extension": ".py",
   "mimetype": "text/x-python",
   "name": "python",
   "nbconvert_exporter": "python",
   "pygments_lexer": "ipython3",
   "version": "3.7.1"
  }
 },
 "nbformat": 4,
 "nbformat_minor": 2
}
